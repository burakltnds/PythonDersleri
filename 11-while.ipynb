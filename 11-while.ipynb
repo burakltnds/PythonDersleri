{
 "cells": [
  {
   "cell_type": "code",
   "execution_count": 3,
   "id": "f96d33c9-1732-4547-9c22-087f0b960cc2",
   "metadata": {},
   "outputs": [
    {
     "name": "stdout",
     "output_type": "stream",
     "text": [
      "0\n",
      "1\n",
      "2\n",
      "3\n",
      "4\n",
      "5\n",
      "6\n",
      "7\n",
      "8\n",
      "9\n",
      "10\n"
     ]
    }
   ],
   "source": [
    "x=0\n",
    "while x<=10:\n",
    "    print(x)\n",
    "    x=x+1"
   ]
  },
  {
   "cell_type": "code",
   "execution_count": 6,
   "id": "353e8616-a2df-4bd3-9605-6e937beced2b",
   "metadata": {},
   "outputs": [
    {
     "name": "stdout",
     "output_type": "stream",
     "text": [
      "3 hala listede 1 kez calisti\n",
      "3 hala listede 2 kez calisti\n",
      "3 hala listede 3 kez calisti\n",
      "3 hala listede 4 kez calisti\n",
      "3 hala listede 5 kez calisti\n",
      "3 hala listede 6 kez calisti\n",
      "3 hala listede 7 kez calisti\n",
      "3 hala listede 8 kez calisti\n"
     ]
    }
   ],
   "source": [
    "liste = [1,2,3,4,5,6,7,8,9,10]\n",
    "count=0\n",
    "while 3 in liste :\n",
    "    count = count+1\n",
    "    print(\"3 hala listede\" , count , \"kez calisti\" )\n",
    "    liste.pop()"
   ]
  },
  {
   "cell_type": "code",
   "execution_count": null,
   "id": "82013f12-d123-4686-8f31-a097673bf0f3",
   "metadata": {},
   "outputs": [],
   "source": [
    "     "
   ]
  }
 ],
 "metadata": {
  "kernelspec": {
   "display_name": "Python 3 (ipykernel)",
   "language": "python",
   "name": "python3"
  },
  "language_info": {
   "codemirror_mode": {
    "name": "ipython",
    "version": 3
   },
   "file_extension": ".py",
   "mimetype": "text/x-python",
   "name": "python",
   "nbconvert_exporter": "python",
   "pygments_lexer": "ipython3",
   "version": "3.12.7"
  }
 },
 "nbformat": 4,
 "nbformat_minor": 5
}
