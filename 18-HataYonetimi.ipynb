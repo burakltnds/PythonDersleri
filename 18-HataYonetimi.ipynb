{
 "cells": [
  {
   "cell_type": "code",
   "execution_count": null,
   "id": "8a5f0052-b410-4678-8aa8-85028d72f320",
   "metadata": {},
   "outputs": [
    {
     "name": "stdin",
     "output_type": "stream",
     "text": [
      "Birinci Sayi: 5\n",
      "Ikinci Sayi: 4\n",
      "Islemi Sec: s\n"
     ]
    },
    {
     "name": "stdout",
     "output_type": "stream",
     "text": [
      "yanlis islem secildi\n"
     ]
    },
    {
     "name": "stdin",
     "output_type": "stream",
     "text": [
      "Birinci Sayi: 8\n",
      "Ikinci Sayi: 4\n",
      "Islemi Sec: +\n"
     ]
    },
    {
     "name": "stdout",
     "output_type": "stream",
     "text": [
      "12\n"
     ]
    }
   ],
   "source": [
    "def hesapMakinesi(a,b,islem):\n",
    "    if islem not in \"+-/*\":\n",
    "        return \"yanlis islem secildi\"\n",
    "    if islem==\"+\":\n",
    "        return a+b\n",
    "    if islem ==\"-\":\n",
    "        return a-b\n",
    "    if islem == \"/\":\n",
    "        return a/b\n",
    "    if islem == \"*\":\n",
    "        return a*b\n",
    "while True:\n",
    "    try:\n",
    "        a=int(input(\"Birinci Sayi:\"))\n",
    "        b=int(input(\"Ikinci Sayi:\"))\n",
    "        islem=input(\"Islemi Sec:\")\n",
    "        print(hesapMakinesi(a,b,islem))\n",
    "    except:\n",
    "        print(\"Bir Yanlis Yapildi\")"
   ]
  },
  {
   "cell_type": "code",
   "execution_count": null,
   "id": "316e13d7-c7fc-43f5-991e-c5ac1f3f6847",
   "metadata": {},
   "outputs": [],
   "source": []
  }
 ],
 "metadata": {
  "kernelspec": {
   "display_name": "Python 3 (ipykernel)",
   "language": "python",
   "name": "python3"
  },
  "language_info": {
   "codemirror_mode": {
    "name": "ipython",
    "version": 3
   },
   "file_extension": ".py",
   "mimetype": "text/x-python",
   "name": "python",
   "nbconvert_exporter": "python",
   "pygments_lexer": "ipython3",
   "version": "3.12.7"
  }
 },
 "nbformat": 4,
 "nbformat_minor": 5
}
