{
 "cells": [
  {
   "cell_type": "code",
   "execution_count": 1,
   "id": "acc3e9b6-ddb8-4825-9504-530d35959db1",
   "metadata": {},
   "outputs": [],
   "source": [
    "import numpy as np"
   ]
  },
  {
   "cell_type": "code",
   "execution_count": 5,
   "id": "af62694d-a845-4455-919b-24b4960a1bfe",
   "metadata": {},
   "outputs": [],
   "source": [
    "dizi = np.random.randint(1,100,25)"
   ]
  },
  {
   "cell_type": "code",
   "execution_count": 18,
   "id": "48132f37-4832-4767-98b9-a5c48c63e8cd",
   "metadata": {},
   "outputs": [
    {
     "name": "stdout",
     "output_type": "stream",
     "text": [
      "[[ 3 86 16 97 39]\n",
      " [67 27 93 62  3]\n",
      " [83 61 15 55 27]\n",
      " [43 62 74 95 84]\n",
      " [50 19 53 84 51]]\n"
     ]
    }
   ],
   "source": [
    "matris = dizi.reshape(5,5)\n",
    "print(matris)"
   ]
  },
  {
   "cell_type": "code",
   "execution_count": 27,
   "id": "52ebd0d4-fa04-4e97-945b-ac88a46c9eef",
   "metadata": {},
   "outputs": [],
   "source": [
    "sonucDizisi= dizi>24"
   ]
  },
  {
   "cell_type": "code",
   "execution_count": 31,
   "id": "bf16ee26-04b8-4fca-bb35-7d8d7167ea80",
   "metadata": {},
   "outputs": [
    {
     "data": {
      "text/plain": [
       "array([86, 97, 39, 67, 27, 93, 62, 83, 61, 55, 27, 43, 62, 74, 95, 84, 50,\n",
       "       53, 84, 51])"
      ]
     },
     "execution_count": 31,
     "metadata": {},
     "output_type": "execute_result"
    }
   ],
   "source": [
    "dizi[sonucDizisi]"
   ]
  },
  {
   "cell_type": "code",
   "execution_count": 35,
   "id": "cba3efd0-42e2-4934-9124-d1a4c78bf4db",
   "metadata": {},
   "outputs": [
    {
     "data": {
      "text/plain": [
       "array([0, 0, 0, 0, 0, 0, 0, 0, 0, 0, 0, 0, 0, 0, 0, 0, 0, 0, 0, 0, 0, 0,\n",
       "       0, 0, 0])"
      ]
     },
     "execution_count": 35,
     "metadata": {},
     "output_type": "execute_result"
    }
   ],
   "source": [
    "dizi/dizi\n",
    "dizi + dizi\n",
    "dizi - dizi"
   ]
  },
  {
   "cell_type": "code",
   "execution_count": 38,
   "id": "f0726c8f-3416-4ee2-9f70-8566d3ed149f",
   "metadata": {},
   "outputs": [
    {
     "data": {
      "text/plain": [
       "array([1.73205081, 9.2736185 , 4.        , 9.8488578 , 6.244998  ,\n",
       "       8.18535277, 5.19615242, 9.64365076, 7.87400787, 1.73205081,\n",
       "       9.11043358, 7.81024968, 3.87298335, 7.41619849, 5.19615242,\n",
       "       6.55743852, 7.87400787, 8.60232527, 9.74679434, 9.16515139,\n",
       "       7.07106781, 4.35889894, 7.28010989, 9.16515139, 7.14142843])"
      ]
     },
     "execution_count": 38,
     "metadata": {},
     "output_type": "execute_result"
    }
   ],
   "source": [
    "np.sqrt(dizi) #karekok alır"
   ]
  },
  {
   "cell_type": "code",
   "execution_count": null,
   "id": "d13d8856-7189-4ca9-816f-095f6664a7c6",
   "metadata": {},
   "outputs": [],
   "source": []
  }
 ],
 "metadata": {
  "kernelspec": {
   "display_name": "Python 3 (ipykernel)",
   "language": "python",
   "name": "python3"
  },
  "language_info": {
   "codemirror_mode": {
    "name": "ipython",
    "version": 3
   },
   "file_extension": ".py",
   "mimetype": "text/x-python",
   "name": "python",
   "nbconvert_exporter": "python",
   "pygments_lexer": "ipython3",
   "version": "3.12.7"
  }
 },
 "nbformat": 4,
 "nbformat_minor": 5
}
