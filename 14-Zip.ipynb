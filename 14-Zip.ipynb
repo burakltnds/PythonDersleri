{
 "cells": [
  {
   "cell_type": "markdown",
   "id": "a38d07bd-44bd-4735-a4b5-dcf9a8ae35c8",
   "metadata": {},
   "source": [
    "## Zip"
   ]
  },
  {
   "cell_type": "code",
   "execution_count": 2,
   "id": "40d4f886-4577-4547-b60d-2eb00d197f3f",
   "metadata": {},
   "outputs": [
    {
     "name": "stdout",
     "output_type": "stream",
     "text": [
      "[('Cola', 200, 10), ('Gazoz', 220, 8), ('Su', 0, 0), ('MeyveSuyu', 180, 15)]\n"
     ]
    }
   ],
   "source": [
    "yemek=[\"Cola\",\"Gazoz\",\"Su\",\"MeyveSuyu\"]\n",
    "kalori=[200,220,0,180]\n",
    "seker=[10,8,0,15]\n",
    "print(list(zip(yemek,kalori,seker)))"
   ]
  },
  {
   "cell_type": "markdown",
   "id": "f987fbff-5afc-40d0-ae64-90373e6fc6d8",
   "metadata": {},
   "source": [
    "## String Elemanları Tek Tek Alma"
   ]
  },
  {
   "cell_type": "code",
   "execution_count": 7,
   "id": "e1cc275e-b5d4-49ba-916b-76e4a55c8bc1",
   "metadata": {},
   "outputs": [
    {
     "name": "stdout",
     "output_type": "stream",
     "text": [
      "['B', 'u', 'r', 'a', 'k', ' ', 'A', 'l', 't', 'u', 'n', 'd', 'a', 's']\n"
     ]
    }
   ],
   "source": [
    "adim=\"Burak Altundas\"\n",
    "isimListe=[eleman for eleman in adim ]\n",
    "print(isimListe)"
   ]
  },
  {
   "cell_type": "code",
   "execution_count": 17,
   "id": "2a393d28-f261-4371-9b55-babaf1fe1e03",
   "metadata": {},
   "outputs": [
    {
     "name": "stdout",
     "output_type": "stream",
     "text": [
      "[0, 1, 4, 9, 16, 25, 36, 49, 64, 81]\n"
     ]
    }
   ],
   "source": [
    "list2 = [numara ** 2 for numara in list(range (0,10))]\n",
    "print(list2)"
   ]
  },
  {
   "cell_type": "code",
   "execution_count": null,
   "id": "221a3d39-0291-4cff-84b1-102ea91f225b",
   "metadata": {},
   "outputs": [],
   "source": []
  }
 ],
 "metadata": {
  "kernelspec": {
   "display_name": "Python 3 (ipykernel)",
   "language": "python",
   "name": "python3"
  },
  "language_info": {
   "codemirror_mode": {
    "name": "ipython",
    "version": 3
   },
   "file_extension": ".py",
   "mimetype": "text/x-python",
   "name": "python",
   "nbconvert_exporter": "python",
   "pygments_lexer": "ipython3",
   "version": "3.12.7"
  }
 },
 "nbformat": 4,
 "nbformat_minor": 5
}
