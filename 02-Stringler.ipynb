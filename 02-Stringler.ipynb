{
 "cells": [
  {
   "cell_type": "code",
   "execution_count": null,
   "id": "f8d0a116-62ca-4745-91f1-9f4bb1aa633f",
   "metadata": {},
   "outputs": [],
   "source": [
    "#stringi sayıyla çarparsan o kadar stringi yazdırır\n",
    "b=\"burak altundas \"\n",
    "b*5\n",
    "len(b) #kaç kararkter olduğunu yazdırır"
   ]
  },
  {
   "cell_type": "code",
   "execution_count": 5,
   "id": "7ffa75f5-ce72-41ed-9742-3f003f630cdb",
   "metadata": {},
   "outputs": [
    {
     "data": {
      "text/plain": [
       "'k'"
      ]
     },
     "execution_count": 5,
     "metadata": {},
     "output_type": "execute_result"
    }
   ],
   "source": [
    "#ındexleme\n",
    "isim=\"Burak\"\n",
    "isim[0] + isim[1]\n",
    "isim[-1] #son karakteri getirir"
   ]
  },
  {
   "cell_type": "code",
   "execution_count": 28,
   "id": "b835cf24-1ec9-4715-9730-ce5b8f3190b3",
   "metadata": {},
   "outputs": [
    {
     "data": {
      "text/plain": [
       "'963'"
      ]
     },
     "execution_count": 28,
     "metadata": {},
     "output_type": "execute_result"
    }
   ],
   "source": [
    "isim2= \"0123456789\"\n",
    "isim2[2:] #ilk 2 elemanı almaz\n",
    "isim2[:2] #ilk 2 elemanı alır\n",
    "isim2[-3:] #son 3 elemanı alır\n",
    "isim2[:-2] #son 2 elemanı almaz\n",
    "isim2[2:5] #2.indexden 5.indexe kadar alır (5 dahil değil)\n",
    "\n",
    "#step size\n",
    "isim2 [::3] #3 er atlar\n",
    "isim2 [10:1:-3] #10 dan 1 e kadar 3 atlar"
   ]
  },
  {
   "cell_type": "code",
   "execution_count": 35,
   "id": "7a6b002b-4c4c-41c6-a860-3dfb4abf4931",
   "metadata": {},
   "outputs": [
    {
     "data": {
      "text/plain": [
       "'BURAK ALTUNDAS'"
      ]
     },
     "execution_count": 35,
     "metadata": {},
     "output_type": "execute_result"
    }
   ],
   "source": [
    "#Hazır Fonksiyonlar\n",
    "isim3= \"burak altundas\"\n",
    "isim3.capitalize() #baş harfi büyütür\n",
    "isim3.split() #bosluklu olan yerleri ayırır\n",
    "isim3.upper() #tüm harfleri büyütür"
   ]
  },
  {
   "cell_type": "code",
   "execution_count": null,
   "id": "8b9699e0-7ef7-47bf-91da-c6e148040cb2",
   "metadata": {},
   "outputs": [],
   "source": []
  }
 ],
 "metadata": {
  "kernelspec": {
   "display_name": "Python 3 (ipykernel)",
   "language": "python",
   "name": "python3"
  },
  "language_info": {
   "codemirror_mode": {
    "name": "ipython",
    "version": 3
   },
   "file_extension": ".py",
   "mimetype": "text/x-python",
   "name": "python",
   "nbconvert_exporter": "python",
   "pygments_lexer": "ipython3",
   "version": "3.12.7"
  }
 },
 "nbformat": 4,
 "nbformat_minor": 5
}
