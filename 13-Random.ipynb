{
 "cells": [
  {
   "cell_type": "markdown",
   "id": "dd58f2fe-1d0a-410e-a466-456ddc5b9a72",
   "metadata": {},
   "source": [
    "## Random Kütüpanesi"
   ]
  },
  {
   "cell_type": "code",
   "execution_count": 7,
   "id": "573b7e2b-7c5b-4d22-bff1-941f9ca8ef1b",
   "metadata": {},
   "outputs": [
    {
     "name": "stdout",
     "output_type": "stream",
     "text": [
      "[0, 1, 2, 3, 4, 5, 6, 7, 8, 9]\n"
     ]
    }
   ],
   "source": [
    "from random import randint\n",
    "randint(0,50) #0-50 arası random bi sayı\n",
    "listem = list(range(0,10))\n",
    "print(listem)"
   ]
  },
  {
   "cell_type": "code",
   "execution_count": 11,
   "id": "1f5ced00-b7ad-439b-a5dd-f58d41abbf91",
   "metadata": {},
   "outputs": [
    {
     "data": {
      "text/plain": [
       "4"
      ]
     },
     "execution_count": 11,
     "metadata": {},
     "output_type": "execute_result"
    }
   ],
   "source": [
    "listem[randint(0,9)]"
   ]
  },
  {
   "cell_type": "markdown",
   "id": "d7eac6e2-f4f3-470b-9da3-08f488b3b549",
   "metadata": {},
   "source": [
    "## Listeyi Rasgele Dağıtma"
   ]
  },
  {
   "cell_type": "code",
   "execution_count": 13,
   "id": "cddf818f-e216-482a-86ea-034cd2968565",
   "metadata": {},
   "outputs": [
    {
     "name": "stdout",
     "output_type": "stream",
     "text": [
      "[5, 0, 8, 1, 7, 3, 9, 2, 6, 4]\n"
     ]
    }
   ],
   "source": [
    "from random import shuffle\n",
    "shuffle(listem)\n",
    "print(listem)"
   ]
  },
  {
   "cell_type": "code",
   "execution_count": null,
   "id": "03c93b4b-9d2d-4e5e-aa9a-f6f56ccf7296",
   "metadata": {},
   "outputs": [],
   "source": []
  }
 ],
 "metadata": {
  "kernelspec": {
   "display_name": "Python 3 (ipykernel)",
   "language": "python",
   "name": "python3"
  },
  "language_info": {
   "codemirror_mode": {
    "name": "ipython",
    "version": 3
   },
   "file_extension": ".py",
   "mimetype": "text/x-python",
   "name": "python",
   "nbconvert_exporter": "python",
   "pygments_lexer": "ipython3",
   "version": "3.12.7"
  }
 },
 "nbformat": 4,
 "nbformat_minor": 5
}
