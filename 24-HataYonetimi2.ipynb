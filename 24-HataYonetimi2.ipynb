{
 "cells": [
  {
   "cell_type": "code",
   "execution_count": 6,
   "id": "03dce2fd-cf4b-4e51-a665-bd6a07da0391",
   "metadata": {},
   "outputs": [],
   "source": [
    "def bolme(num1,num2):\n",
    "    return num1 / num2"
   ]
  },
  {
   "cell_type": "code",
   "execution_count": 8,
   "id": "ed431119-26b6-4501-9d2c-3b04a0234b5e",
   "metadata": {},
   "outputs": [
    {
     "name": "stdin",
     "output_type": "stream",
     "text": [
      "Num1: 45\n",
      "Num2: 52\n"
     ]
    },
    {
     "name": "stdout",
     "output_type": "stream",
     "text": [
      "0.8653846153846154\n"
     ]
    }
   ],
   "source": [
    "x=int(input(\"Num1:\"))\n",
    "y=int(input(\"Num2:\"))\n",
    "print(bolme(x,y))"
   ]
  },
  {
   "cell_type": "markdown",
   "id": "4d0460f0-bea6-48cb-bbba-dd6e27a1e6c8",
   "metadata": {},
   "source": [
    "## try-except-else-finally"
   ]
  },
  {
   "cell_type": "code",
   "execution_count": 2,
   "id": "3aeecb00-7ab7-494f-bb01-759c5d40c9e0",
   "metadata": {},
   "outputs": [
    {
     "name": "stdin",
     "output_type": "stream",
     "text": [
      "Num1: fddf\n"
     ]
    },
    {
     "name": "stdout",
     "output_type": "stream",
     "text": [
      "Yanlis Giris\n",
      "son geldi\n"
     ]
    },
    {
     "name": "stdin",
     "output_type": "stream",
     "text": [
      "Num1: asd\n"
     ]
    },
    {
     "name": "stdout",
     "output_type": "stream",
     "text": [
      "Yanlis Giris\n",
      "son geldi\n"
     ]
    },
    {
     "name": "stdin",
     "output_type": "stream",
     "text": [
      "Num1: feq\n"
     ]
    },
    {
     "name": "stdout",
     "output_type": "stream",
     "text": [
      "Yanlis Giris\n",
      "son geldi\n"
     ]
    },
    {
     "name": "stdin",
     "output_type": "stream",
     "text": [
      "Num1: ewg\n"
     ]
    },
    {
     "name": "stdout",
     "output_type": "stream",
     "text": [
      "Yanlis Giris\n",
      "son geldi\n"
     ]
    },
    {
     "name": "stdin",
     "output_type": "stream",
     "text": [
      "Num1: 47\n"
     ]
    },
    {
     "name": "stdout",
     "output_type": "stream",
     "text": [
      "Tesekkurler\n",
      "son geldi\n"
     ]
    }
   ],
   "source": [
    "while True:\n",
    "    try:\n",
    "        int1=int(input(\"Num1:\"))\n",
    "    except:\n",
    "        print(\"Yanlis Giris\")\n",
    "        continue\n",
    "    else:\n",
    "        print(\"Tesekkurler\")\n",
    "        break\n",
    "    finally:#ne olursa olsun çağırılcak\n",
    "        print(\"son geldi\")"
   ]
  },
  {
   "cell_type": "code",
   "execution_count": null,
   "id": "450dd72c-3ad5-4c5a-a943-82ea0cf7dbf9",
   "metadata": {},
   "outputs": [],
   "source": []
  }
 ],
 "metadata": {
  "kernelspec": {
   "display_name": "Python 3 (ipykernel)",
   "language": "python",
   "name": "python3"
  },
  "language_info": {
   "codemirror_mode": {
    "name": "ipython",
    "version": 3
   },
   "file_extension": ".py",
   "mimetype": "text/x-python",
   "name": "python",
   "nbconvert_exporter": "python",
   "pygments_lexer": "ipython3",
   "version": "3.12.7"
  }
 },
 "nbformat": 4,
 "nbformat_minor": 5
}
