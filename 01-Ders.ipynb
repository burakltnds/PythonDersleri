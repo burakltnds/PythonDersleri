{
 "cells": [
  {
   "cell_type": "code",
   "execution_count": 23,
   "id": "c92fe7b1-c041-4c41-b90f-e2fc0a0e4f97",
   "metadata": {},
   "outputs": [
    {
     "data": {
      "text/plain": [
       "int"
      ]
     },
     "execution_count": 23,
     "metadata": {},
     "output_type": "execute_result"
    }
   ],
   "source": [
    "#uslu ifade\n",
    "x=2\n",
    "x ** 5\n",
    "#type fonksiyonu değişkenin tipini gösterir\n",
    "type(x)\n"
   ]
  },
  {
   "cell_type": "code",
   "execution_count": 22,
   "id": "14c7d0ca-e4da-4005-8e83-462293e1e6ea",
   "metadata": {},
   "outputs": [
    {
     "name": "stdin",
     "output_type": "stream",
     "text": [
      "Yaşınızı Giriniz 7\n"
     ]
    },
    {
     "name": "stdout",
     "output_type": "stream",
     "text": [
      "17\n"
     ]
    }
   ],
   "source": [
    "#kullanicidan alma\n",
    "yas = int(input(\"Yaşınızı Giriniz\"))\n",
    "print (yas + 10)"
   ]
  }
 ],
 "metadata": {
  "kernelspec": {
   "display_name": "Python 3 (ipykernel)",
   "language": "python",
   "name": "python3"
  },
  "language_info": {
   "codemirror_mode": {
    "name": "ipython",
    "version": 3
   },
   "file_extension": ".py",
   "mimetype": "text/x-python",
   "name": "python",
   "nbconvert_exporter": "python",
   "pygments_lexer": "ipython3",
   "version": "3.12.7"
  }
 },
 "nbformat": 4,
 "nbformat_minor": 5
}
