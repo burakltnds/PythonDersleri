{
 "cells": [
  {
   "cell_type": "markdown",
   "id": "93b7e8d3-9085-44c0-b2c0-d9ca26afc0b5",
   "metadata": {},
   "source": [
    "# If Else"
   ]
  },
  {
   "cell_type": "code",
   "execution_count": 6,
   "id": "3819c176-705e-4345-b43e-b9834e1f12f4",
   "metadata": {},
   "outputs": [
    {
     "name": "stdout",
     "output_type": "stream",
     "text": [
      "Altundas\n",
      "if disinda\n"
     ]
    }
   ],
   "source": [
    "kosul=1\n",
    "if kosul>1 :\n",
    "    print(\"Burak Altundas\")\n",
    "elif kosul<1 :\n",
    "    print(\"Burak\")\n",
    "else :\n",
    "    print(\"Altundas\")\n",
    "    \n",
    "print(\"if disinda\")"
   ]
  },
  {
   "cell_type": "markdown",
   "id": "b097f702-a59f-4f8d-8e17-fd7776a515f4",
   "metadata": {},
   "source": [
    "## Uygulama"
   ]
  },
  {
   "cell_type": "code",
   "execution_count": 14,
   "id": "50f9fdab-4be2-4f88-ae8b-b2c548a0c93a",
   "metadata": {},
   "outputs": [
    {
     "name": "stdin",
     "output_type": "stream",
     "text": [
      "Kahramanını Sec \n",
      "1-Superman\n",
      "2-Batman\n",
      "3-Daredevil\n",
      "4-Punisher\n",
      " Punisher\n"
     ]
    },
    {
     "name": "stdout",
     "output_type": "stream",
     "text": [
      "Punisher Secildi\n"
     ]
    }
   ],
   "source": [
    "superK=input(\"Kahramanını Sec \\n1-Superman\\n2-Batman\\n3-Daredevil\\n4-Punisher\\n\")\n",
    "guc=int;\n",
    "if superK==\"Superman\" :\n",
    "    print(\"Superman Secildi\")\n",
    "    guc=4\n",
    "elif superK==\"Batman\" :\n",
    "    print(\"Batman Secildi\")\n",
    "    guc=3\n",
    "elif superK==\"Daredevil\" :\n",
    "    print(\"Daredevil Secildi\")\n",
    "    guc=5\n",
    "elif superK==\"Punisher\" :\n",
    "    print(\"Punisher Secildi\")\n",
    "    guc=7\n",
    "else:\n",
    "    print(\"Yanlis Bir Secim Yaptiniz\")"
   ]
  },
  {
   "cell_type": "markdown",
   "id": "9f21d036-8513-4bf6-b307-bacd034ede62",
   "metadata": {},
   "source": [
    "## Uygulama2"
   ]
  },
  {
   "cell_type": "code",
   "execution_count": 23,
   "id": "b6891838-a757-480b-866b-362d8e01aeb4",
   "metadata": {},
   "outputs": [
    {
     "name": "stdout",
     "output_type": "stream",
     "text": [
      "var\n"
     ]
    }
   ],
   "source": [
    "#içinde varmı sorgusu\n",
    "adim=\"Burak Altundas\"\n",
    "if \"rak\" in adim:\n",
    "    print(\"var\")\n",
    "else: \n",
    "    print(\"Yok\")"
   ]
  },
  {
   "cell_type": "code",
   "execution_count": null,
   "id": "701419f3-b1f3-4d2c-a52e-fb2edb677cf3",
   "metadata": {},
   "outputs": [],
   "source": []
  }
 ],
 "metadata": {
  "kernelspec": {
   "display_name": "Python 3 (ipykernel)",
   "language": "python",
   "name": "python3"
  },
  "language_info": {
   "codemirror_mode": {
    "name": "ipython",
    "version": 3
   },
   "file_extension": ".py",
   "mimetype": "text/x-python",
   "name": "python",
   "nbconvert_exporter": "python",
   "pygments_lexer": "ipython3",
   "version": "3.12.7"
  }
 },
 "nbformat": 4,
 "nbformat_minor": 5
}
