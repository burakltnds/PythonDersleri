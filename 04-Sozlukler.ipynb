{
 "cells": [
  {
   "cell_type": "code",
   "execution_count": 8,
   "id": "60d1120b-1cc4-43be-9e01-494ca4420f72",
   "metadata": {},
   "outputs": [
    {
     "data": {
      "text/plain": [
       "{'elma': 100, 'armut': 64, 'cikolata': 250}"
      ]
     },
     "execution_count": 8,
     "metadata": {},
     "output_type": "execute_result"
    }
   ],
   "source": [
    "#Sozlukler iki liste arasındaki indexlerin bağlantısını sağlar\n",
    "list1=[\"elma\",\"armut\",\"cikolata\"]\n",
    "list2=[50,64,250]\n",
    "sozluk = {\"elma\" : 50 , \"armut\":64 ,\"cikolata\" :250}\n",
    "sozluk[\"cikolata\"]\n",
    "sozluk[\"elma\"] =100\n",
    "sozluk[\"elma\"]\n",
    "sozluk"
   ]
  },
  {
   "cell_type": "markdown",
   "id": "7d91dad5-a8ca-4f19-9949-b9e608516fb2",
   "metadata": {},
   "source": [
    "## Nested Dictionary"
   ]
  },
  {
   "cell_type": "code",
   "execution_count": 11,
   "id": "2d992c3d-cc4e-4e93-911f-f6c077eb62c2",
   "metadata": {},
   "outputs": [],
   "source": [
    "sozluk2={\"Burak\" : \"Altundas\" , \"Key2\":50 ,\"Key4\":[10,20,30] , \"Key5\":{\"Anahtar6\":5} }"
   ]
  },
  {
   "cell_type": "markdown",
   "id": "dc08a1a9-1fb5-4773-899d-009fcca457df",
   "metadata": {},
   "source": [
    "## Hazır Fonksiyonlar"
   ]
  },
  {
   "cell_type": "code",
   "execution_count": 12,
   "id": "3aac84fc-7e21-4b9e-9661-0b833f13a9ae",
   "metadata": {},
   "outputs": [
    {
     "data": {
      "text/plain": [
       "dict_values(['Altundas', 50, [10, 20, 30], {'Anahtar6': 5}])"
      ]
     },
     "execution_count": 12,
     "metadata": {},
     "output_type": "execute_result"
    }
   ],
   "source": [
    "sozluk2.keys() #anahtarları gösterir\n",
    "sozluk2.values() #değerleri gösterir"
   ]
  },
  {
   "cell_type": "markdown",
   "id": "e300fce1-ecaf-4fea-a0dd-8ee1b58eaa1f",
   "metadata": {},
   "source": [
    "## Uygulama"
   ]
  },
  {
   "cell_type": "code",
   "execution_count": 14,
   "id": "fce0a2ea-7937-4448-ae61-397188d56578",
   "metadata": {},
   "outputs": [
    {
     "data": {
      "text/plain": [
       "5"
      ]
     },
     "execution_count": 14,
     "metadata": {},
     "output_type": "execute_result"
    }
   ],
   "source": [
    "sozluk2[\"Key4\"][2]\n",
    "sozluk2[\"Key5\"][\"Anahtar6\"]"
   ]
  }
 ],
 "metadata": {
  "kernelspec": {
   "display_name": "Python 3 (ipykernel)",
   "language": "python",
   "name": "python3"
  },
  "language_info": {
   "codemirror_mode": {
    "name": "ipython",
    "version": 3
   },
   "file_extension": ".py",
   "mimetype": "text/x-python",
   "name": "python",
   "nbconvert_exporter": "python",
   "pygments_lexer": "ipython3",
   "version": "3.12.7"
  }
 },
 "nbformat": 4,
 "nbformat_minor": 5
}
