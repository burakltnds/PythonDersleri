{
 "cells": [
  {
   "cell_type": "code",
   "execution_count": 7,
   "id": "20a45d49-9c3a-4059-9a3c-3f60d001a3e1",
   "metadata": {},
   "outputs": [
    {
     "data": {
      "text/plain": [
       "array([20, 30, 40, 50])"
      ]
     },
     "execution_count": 7,
     "metadata": {},
     "output_type": "execute_result"
    }
   ],
   "source": [
    "import numpy as np\n",
    "listem=[20,30,40,50]\n",
    "np.array(listem)"
   ]
  },
  {
   "cell_type": "code",
   "execution_count": 8,
   "id": "9df62506-4850-4cad-8bd3-41bc4a746cde",
   "metadata": {},
   "outputs": [
    {
     "name": "stdout",
     "output_type": "stream",
     "text": [
      "[[10 20 30]\n",
      " [20 30 40]\n",
      " [40 50 60]]\n"
     ]
    }
   ],
   "source": [
    "matrixList=[[10,20,30],[20,30,40],[40,50,60]]\n",
    "print(np.array(matrixList))"
   ]
  }
 ],
 "metadata": {
  "kernelspec": {
   "display_name": "Python 3 (ipykernel)",
   "language": "python",
   "name": "python3"
  },
  "language_info": {
   "codemirror_mode": {
    "name": "ipython",
    "version": 3
   },
   "file_extension": ".py",
   "mimetype": "text/x-python",
   "name": "python",
   "nbconvert_exporter": "python",
   "pygments_lexer": "ipython3",
   "version": "3.12.7"
  }
 },
 "nbformat": 4,
 "nbformat_minor": 5
}
