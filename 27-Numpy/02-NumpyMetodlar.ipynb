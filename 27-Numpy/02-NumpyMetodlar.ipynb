{
 "cells": [
  {
   "cell_type": "markdown",
   "id": "3b529597-7fa1-461a-86c9-cc29de894981",
   "metadata": {},
   "source": [
    "## Arange"
   ]
  },
  {
   "cell_type": "code",
   "execution_count": 4,
   "id": "1ce8f8ee-3b36-469a-bd54-c2045e435b00",
   "metadata": {},
   "outputs": [
    {
     "name": "stdout",
     "output_type": "stream",
     "text": [
      "[0, 1, 2, 3, 4, 5, 6, 7, 8, 9]\n"
     ]
    }
   ],
   "source": [
    "import numpy as np\n",
    "print(list(range(0,10)))\n"
   ]
  },
  {
   "cell_type": "code",
   "execution_count": 5,
   "id": "a327c674-884b-47a1-b54c-7fd25842f2af",
   "metadata": {},
   "outputs": [
    {
     "name": "stdout",
     "output_type": "stream",
     "text": [
      "[0 1 2 3 4 5 6 7 8 9]\n"
     ]
    }
   ],
   "source": [
    "print(np.arange(0,10))"
   ]
  },
  {
   "cell_type": "code",
   "execution_count": 40,
   "id": "862a6bde-7501-4533-b12f-57b793751460",
   "metadata": {},
   "outputs": [
    {
     "name": "stdout",
     "output_type": "stream",
     "text": [
      "[ 0  2  4  6  8 10 12 14 16 18 20]\n"
     ]
    }
   ],
   "source": [
    "print(np.arange(0,21,2))\n",
    "benimNumpyDizim = np.arange(30)"
   ]
  },
  {
   "cell_type": "markdown",
   "id": "8d509d25-aa55-4f12-b361-38496b17cc5e",
   "metadata": {},
   "source": [
    "## Zeros"
   ]
  },
  {
   "cell_type": "code",
   "execution_count": 25,
   "id": "ef2e009c-cc6d-4d07-b06e-079cbe500e92",
   "metadata": {},
   "outputs": [
    {
     "name": "stdout",
     "output_type": "stream",
     "text": [
      "[[0. 0. 0. 0. 0.]\n",
      " [0. 0. 0. 0. 0.]\n",
      " [0. 0. 0. 0. 0.]\n",
      " [0. 0. 0. 0. 0.]\n",
      " [0. 0. 0. 0. 0.]]\n"
     ]
    }
   ],
   "source": [
    "print(np.zeros((5,5))) ##5 e 5 lik 0 dizisi"
   ]
  },
  {
   "cell_type": "code",
   "execution_count": 26,
   "id": "a685d0aa-691b-430e-a70d-604b138eab99",
   "metadata": {},
   "outputs": [
    {
     "name": "stdout",
     "output_type": "stream",
     "text": [
      "[[1. 1. 1.]\n",
      " [1. 1. 1.]\n",
      " [1. 1. 1.]]\n"
     ]
    }
   ],
   "source": [
    "print(np.ones((3,3))) # 3 e 3 lük 1 dizisi"
   ]
  },
  {
   "cell_type": "markdown",
   "id": "c337fb4c-9860-4fbe-b7b6-fd1940dfecac",
   "metadata": {},
   "source": [
    "## Linspace"
   ]
  },
  {
   "cell_type": "code",
   "execution_count": 27,
   "id": "9bcd2c88-eb44-4fd5-9e8a-ca13fb1d22ca",
   "metadata": {},
   "outputs": [
    {
     "name": "stdout",
     "output_type": "stream",
     "text": [
      "[ 0. 10. 20. 30. 40. 50.]\n"
     ]
    }
   ],
   "source": [
    "print(np.linspace(0,50,6)) #0 dan 50 ye kadar arasındaki fark eşit 6 sayı"
   ]
  },
  {
   "cell_type": "markdown",
   "id": "e8de86d7-0582-4f0d-94bc-e51e210bb910",
   "metadata": {},
   "source": [
    "## Eye"
   ]
  },
  {
   "cell_type": "code",
   "execution_count": 29,
   "id": "19b8ddaf-f473-40b6-8de2-ba43d61db4ea",
   "metadata": {},
   "outputs": [
    {
     "data": {
      "text/plain": [
       "array([[1., 0., 0., 0., 0.],\n",
       "       [0., 1., 0., 0., 0.],\n",
       "       [0., 0., 1., 0., 0.],\n",
       "       [0., 0., 0., 1., 0.],\n",
       "       [0., 0., 0., 0., 1.]])"
      ]
     },
     "execution_count": 29,
     "metadata": {},
     "output_type": "execute_result"
    }
   ],
   "source": [
    "np.eye(5) #birim matris"
   ]
  },
  {
   "cell_type": "markdown",
   "id": "d64c1086-042c-4263-b89c-9655c8726657",
   "metadata": {},
   "source": [
    "## Random"
   ]
  },
  {
   "cell_type": "code",
   "execution_count": 42,
   "id": "6b026305-16ef-408c-8d52-6676a892668a",
   "metadata": {},
   "outputs": [],
   "source": [
    "np.random.randn(4,4) #4 e 4 bir matris olustururnp.random.randint(1,10) #tek bir int dondurur\n",
    "benimRandomDizim = np.random.randint(1,100,30) #1 le 100 arası 30 değer"
   ]
  },
  {
   "cell_type": "markdown",
   "id": "3ef6c9f5-a7dc-47c2-9a2e-b38ecc631994",
   "metadata": {},
   "source": [
    "# Numpy Dizi Metodları"
   ]
  },
  {
   "cell_type": "code",
   "execution_count": 45,
   "id": "3c946882-1f49-4d5c-be1d-7b5cd6b3a905",
   "metadata": {},
   "outputs": [
    {
     "name": "stdout",
     "output_type": "stream",
     "text": [
      "[[ 0  1  2  3  4  5]\n",
      " [ 6  7  8  9 10 11]\n",
      " [12 13 14 15 16 17]\n",
      " [18 19 20 21 22 23]\n",
      " [24 25 26 27 28 29]]\n"
     ]
    }
   ],
   "source": [
    "print(benimNumpyDizim.reshape(5,6)) # 5e 6 lık bir array"
   ]
  },
  {
   "cell_type": "code",
   "execution_count": 46,
   "id": "fe6515bf-6674-43a3-8fa2-f312ce0d1181",
   "metadata": {},
   "outputs": [
    {
     "data": {
      "text/plain": [
       "29"
      ]
     },
     "execution_count": 46,
     "metadata": {},
     "output_type": "execute_result"
    }
   ],
   "source": [
    "benimNumpyDizim.max()"
   ]
  },
  {
   "cell_type": "code",
   "execution_count": 49,
   "id": "51c9ede1-b4f4-4c8f-a7c5-d8f03fd1b742",
   "metadata": {},
   "outputs": [
    {
     "data": {
      "text/plain": [
       "29"
      ]
     },
     "execution_count": 49,
     "metadata": {},
     "output_type": "execute_result"
    }
   ],
   "source": [
    "benimNumpyDizim.argmax()#max sayının index i verir"
   ]
  },
  {
   "cell_type": "code",
   "execution_count": 51,
   "id": "295391a8-5713-4bf7-bef9-6987609f094a",
   "metadata": {},
   "outputs": [
    {
     "data": {
      "text/plain": [
       "(30,)"
      ]
     },
     "execution_count": 51,
     "metadata": {},
     "output_type": "execute_result"
    }
   ],
   "source": [
    "benimNumpyDizim.shape #güncel dizinin şeklini gösterir"
   ]
  },
  {
   "cell_type": "code",
   "execution_count": null,
   "id": "d62f3f73-777c-4ca6-addf-ee9f5097b7ea",
   "metadata": {},
   "outputs": [],
   "source": []
  }
 ],
 "metadata": {
  "kernelspec": {
   "display_name": "Python 3 (ipykernel)",
   "language": "python",
   "name": "python3"
  },
  "language_info": {
   "codemirror_mode": {
    "name": "ipython",
    "version": 3
   },
   "file_extension": ".py",
   "mimetype": "text/x-python",
   "name": "python",
   "nbconvert_exporter": "python",
   "pygments_lexer": "ipython3",
   "version": "3.12.7"
  }
 },
 "nbformat": 4,
 "nbformat_minor": 5
}
