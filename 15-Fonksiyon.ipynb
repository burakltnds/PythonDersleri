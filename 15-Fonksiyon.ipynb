{
 "cells": [
  {
   "cell_type": "markdown",
   "id": "523dec99-3d69-44bc-a711-53f7cf5ee30f",
   "metadata": {},
   "source": [
    "## Tanımlama"
   ]
  },
  {
   "cell_type": "code",
   "execution_count": 4,
   "id": "7a7662c9-70be-4f58-93b0-8dec36bc92fa",
   "metadata": {},
   "outputs": [
    {
     "name": "stdout",
     "output_type": "stream",
     "text": [
      "15\n",
      "-5\n"
     ]
    }
   ],
   "source": [
    "def toplama(x,y):\n",
    "    print(x+y)\n",
    "toplama(5,10)\n",
    "def cikarma(x,y):\n",
    "    return x-y\n",
    "print(cikarma(5,10))"
   ]
  },
  {
   "cell_type": "code",
   "execution_count": 18,
   "id": "bbb67ace-5085-471e-910f-2c9ae45ed2af",
   "metadata": {},
   "outputs": [
    {
     "name": "stdout",
     "output_type": "stream",
     "text": [
      "40\n"
     ]
    }
   ],
   "source": [
    "def randomParametreli(x=5,y=10):\n",
    "    return x-y\n",
    "a=randomParametreli(50,10)\n",
    "print(a)"
   ]
  },
  {
   "cell_type": "markdown",
   "id": "5a6d573d-7027-42ca-9ac4-d5ab77aa582f",
   "metadata": {},
   "source": [
    "## ARGS KWARGS"
   ]
  },
  {
   "cell_type": "code",
   "execution_count": 21,
   "id": "6ec133d2-b965-42b8-aba0-b440d53d093c",
   "metadata": {},
   "outputs": [
    {
     "data": {
      "text/plain": [
       "121.33333333333333"
      ]
     },
     "execution_count": 21,
     "metadata": {},
     "output_type": "execute_result"
    }
   ],
   "source": [
    "def toplamam(*args): #istediğin kadar parametre yazarsın\n",
    "    return sum(args)\n",
    "toplamam(5,20,45,96,547,15)/6"
   ]
  },
  {
   "cell_type": "code",
   "execution_count": 22,
   "id": "fab522ee-c781-48a4-8bf2-b5b6ca6b6f21",
   "metadata": {},
   "outputs": [
    {
     "data": {
      "text/plain": [
       "{'burak': 100, 'ahmet': 200, 'mehmet': 300}"
      ]
     },
     "execution_count": 22,
     "metadata": {},
     "output_type": "execute_result"
    }
   ],
   "source": [
    "def kwargsFonk(**kwargs):\n",
    "    return (kwargs)\n",
    "kwargsFonk(burak=100 , ahmet=200 , mehmet = 300)"
   ]
  },
  {
   "cell_type": "code",
   "execution_count": null,
   "id": "348f6fad-9c54-4390-91a2-e5ca8aa8e973",
   "metadata": {},
   "outputs": [],
   "source": []
  }
 ],
 "metadata": {
  "kernelspec": {
   "display_name": "Python 3 (ipykernel)",
   "language": "python",
   "name": "python3"
  },
  "language_info": {
   "codemirror_mode": {
    "name": "ipython",
    "version": 3
   },
   "file_extension": ".py",
   "mimetype": "text/x-python",
   "name": "python",
   "nbconvert_exporter": "python",
   "pygments_lexer": "ipython3",
   "version": "3.12.7"
  }
 },
 "nbformat": 4,
 "nbformat_minor": 5
}
