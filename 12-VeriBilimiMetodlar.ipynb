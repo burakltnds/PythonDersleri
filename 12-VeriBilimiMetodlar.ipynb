{
 "cells": [
  {
   "cell_type": "markdown",
   "id": "815388b1-5bb2-485f-9071-d340d1ea1366",
   "metadata": {},
   "source": [
    "## RANGE"
   ]
  },
  {
   "cell_type": "code",
   "execution_count": 15,
   "id": "10b93fcd-5d35-4974-9154-b707154aa4df",
   "metadata": {},
   "outputs": [
    {
     "name": "stdout",
     "output_type": "stream",
     "text": [
      "0\n",
      "5\n",
      "10\n",
      "15\n",
      "20\n",
      "25\n",
      "30\n",
      "35\n",
      "40\n",
      "45\n"
     ]
    }
   ],
   "source": [
    "list(range(25)) #0 dan 25 e kadar 25 dahil değil liste oluşturur\n",
    "for i in list(range (10)):\n",
    "    print(i*5)"
   ]
  },
  {
   "cell_type": "code",
   "execution_count": 26,
   "id": "86d3c56d-9469-4604-8e67-0c1670422aed",
   "metadata": {},
   "outputs": [
    {
     "data": {
      "text/plain": [
       "[5, 8, 11, 14, 17, 20, 23, 26]"
      ]
     },
     "execution_count": 26,
     "metadata": {},
     "output_type": "execute_result"
    }
   ],
   "source": [
    "list(range(5,29,3)) #5 den 29 a kadar 3 er artırır"
   ]
  },
  {
   "cell_type": "markdown",
   "id": "6e617a27-b374-4fc5-b025-d4b3cc26c8e6",
   "metadata": {},
   "source": [
    "## ENUMERATE"
   ]
  },
  {
   "cell_type": "code",
   "execution_count": 31,
   "id": "0bbb63d1-aca8-43bb-a094-392129da00d5",
   "metadata": {},
   "outputs": [
    {
     "name": "stdout",
     "output_type": "stream",
     "text": [
      "5\n",
      "10\n",
      "15\n",
      "20\n",
      "25\n",
      "30\n",
      "35\n",
      "40\n",
      "45\n",
      "50\n",
      "55\n",
      "60\n",
      "65\n",
      "70\n",
      "75\n",
      "80\n",
      "85\n",
      "90\n",
      "95\n",
      "100\n"
     ]
    }
   ],
   "source": [
    "# indexlerle birlikte verir\n",
    "#Tuple Dödürür\n",
    "for (index,numara) in enumerate(list(range(5,101,5))):\n",
    "    print(numara)"
   ]
  },
  {
   "cell_type": "code",
   "execution_count": null,
   "id": "ef43283a-7e2f-4f8a-9fca-6781b78ef198",
   "metadata": {},
   "outputs": [],
   "source": []
  }
 ],
 "metadata": {
  "kernelspec": {
   "display_name": "Python 3 (ipykernel)",
   "language": "python",
   "name": "python3"
  },
  "language_info": {
   "codemirror_mode": {
    "name": "ipython",
    "version": 3
   },
   "file_extension": ".py",
   "mimetype": "text/x-python",
   "name": "python",
   "nbconvert_exporter": "python",
   "pygments_lexer": "ipython3",
   "version": "3.12.7"
  }
 },
 "nbformat": 4,
 "nbformat_minor": 5
}
