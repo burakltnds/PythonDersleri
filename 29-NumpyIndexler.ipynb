{
 "cells": [
  {
   "cell_type": "code",
   "execution_count": 5,
   "id": "0f4310fa-c367-43e4-a2a1-9b57d830898a",
   "metadata": {},
   "outputs": [],
   "source": [
    "import numpy as np"
   ]
  },
  {
   "cell_type": "code",
   "execution_count": 6,
   "id": "0faf0715-8106-44f9-9996-b6062f4c1c52",
   "metadata": {},
   "outputs": [],
   "source": [
    "dizim=np.arange(0,15)"
   ]
  },
  {
   "cell_type": "code",
   "execution_count": 7,
   "id": "404dcd61-ff36-4323-ae18-96bf6ae442d6",
   "metadata": {},
   "outputs": [],
   "source": [
    "dizim[3:7]=-8 # 3. ve 6. indeksler arası tüm indexleri -5 yapar"
   ]
  },
  {
   "cell_type": "code",
   "execution_count": 8,
   "id": "aecb0f5b-49e5-4f4f-94d5-0922296f8387",
   "metadata": {},
   "outputs": [
    {
     "data": {
      "text/plain": [
       "array([4, 5, 6, 7, 8])"
      ]
     },
     "execution_count": 8,
     "metadata": {},
     "output_type": "execute_result"
    }
   ],
   "source": [
    "dizi2=np.arange(0,20)\n",
    "sliceing = dizi2[4:9]\n",
    "sliceing"
   ]
  },
  {
   "cell_type": "code",
   "execution_count": 9,
   "id": "c4f21468-acdc-411a-9416-a8aa9b570c60",
   "metadata": {},
   "outputs": [
    {
     "data": {
      "text/plain": [
       "array([700, 700, 700, 700, 700])"
      ]
     },
     "execution_count": 9,
     "metadata": {},
     "output_type": "execute_result"
    }
   ],
   "source": [
    "sliceing[:]=700 # tüm elemanlar 700 olur\n",
    "sliceing"
   ]
  },
  {
   "cell_type": "code",
   "execution_count": 10,
   "id": "0b05bce9-0c90-4808-acc8-17afea56c449",
   "metadata": {},
   "outputs": [
    {
     "data": {
      "text/plain": [
       "array([700, 700, 700, 700, 700])"
      ]
     },
     "execution_count": 10,
     "metadata": {},
     "output_type": "execute_result"
    }
   ],
   "source": [
    "ornek=sliceing.copy()\n",
    "ornek"
   ]
  },
  {
   "cell_type": "markdown",
   "id": "8489db7d-a1e3-4124-8ea6-e172d80b9bde",
   "metadata": {},
   "source": [
    "## Matrix İndexler"
   ]
  },
  {
   "cell_type": "code",
   "execution_count": 12,
   "id": "c6af6620-3093-45d4-bc8c-8502fd0b4be1",
   "metadata": {},
   "outputs": [
    {
     "name": "stdout",
     "output_type": "stream",
     "text": [
      "[[10 20 30]\n",
      " [20 30 40]\n",
      " [40 50 60]]\n"
     ]
    },
    {
     "data": {
      "text/plain": [
       "40"
      ]
     },
     "execution_count": 12,
     "metadata": {},
     "output_type": "execute_result"
    }
   ],
   "source": [
    "benimListem = [[10,20,30],[20,30,40],[40,50,60]]\n",
    "matris = np.array(benimListem)\n",
    "print(matris)\n",
    "matris[0][0]\n",
    "matris[1,2]"
   ]
  },
  {
   "cell_type": "code",
   "execution_count": 22,
   "id": "8a1c41aa-e67b-43cf-8b5a-7b63f6192ffe",
   "metadata": {},
   "outputs": [
    {
     "data": {
      "text/plain": [
       "array([[10],\n",
       "       [20],\n",
       "       [40]])"
      ]
     },
     "execution_count": 22,
     "metadata": {},
     "output_type": "execute_result"
    }
   ],
   "source": [
    "matris[0:,0:1]"
   ]
  },
  {
   "cell_type": "code",
   "execution_count": null,
   "id": "36975ed6-1e6f-40e5-bb34-f5a26abcfadd",
   "metadata": {},
   "outputs": [],
   "source": []
  }
 ],
 "metadata": {
  "kernelspec": {
   "display_name": "Python 3 (ipykernel)",
   "language": "python",
   "name": "python3"
  },
  "language_info": {
   "codemirror_mode": {
    "name": "ipython",
    "version": 3
   },
   "file_extension": ".py",
   "mimetype": "text/x-python",
   "name": "python",
   "nbconvert_exporter": "python",
   "pygments_lexer": "ipython3",
   "version": "3.12.7"
  }
 },
 "nbformat": 4,
 "nbformat_minor": 5
}
