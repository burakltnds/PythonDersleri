{
 "cells": [
  {
   "cell_type": "markdown",
   "id": "0edcf71b-d76c-4e25-9dd8-a099428e73d4",
   "metadata": {},
   "source": [
    "# For"
   ]
  },
  {
   "cell_type": "code",
   "execution_count": 4,
   "id": "215dc939-3cab-4ed5-854a-4c01cd14869c",
   "metadata": {
    "scrolled": true
   },
   "outputs": [
    {
     "name": "stdout",
     "output_type": "stream",
     "text": [
      "25\n",
      "50\n",
      "75\n",
      "100\n",
      "125\n",
      "150\n",
      "175\n",
      "200\n",
      "225\n",
      "250\n"
     ]
    }
   ],
   "source": [
    "listem=[5,10,15,20,25,30,35,40,45,50]\n",
    "for i in listem:\n",
    "    i=i*5\n",
    "    print(i)"
   ]
  },
  {
   "cell_type": "code",
   "execution_count": 6,
   "id": "85d7864d-f5ea-4da6-9732-22b6abd1e3f7",
   "metadata": {},
   "outputs": [
    {
     "name": "stdout",
     "output_type": "stream",
     "text": [
      "10\n",
      "20\n",
      "30\n",
      "40\n",
      "50\n"
     ]
    }
   ],
   "source": [
    "for i in listem:\n",
    "    if i%2==0:\n",
    "        print(i)\n",
    "       "
   ]
  },
  {
   "cell_type": "code",
   "execution_count": 9,
   "id": "aa2040b6-193a-445a-a3b5-1a45a297b75e",
   "metadata": {},
   "outputs": [
    {
     "name": "stdout",
     "output_type": "stream",
     "text": [
      "2\n",
      "3\n",
      "20\n",
      "5\n",
      "9\n",
      "45\n",
      "30\n"
     ]
    }
   ],
   "source": [
    "tuplem={2,3,5,9,30,20,45}\n",
    "for i in tuplem:\n",
    "    print (i)"
   ]
  },
  {
   "cell_type": "code",
   "execution_count": 16,
   "id": "7c1e761e-db69-4003-a976-29563dee4671",
   "metadata": {},
   "outputs": [
    {
     "name": "stdout",
     "output_type": "stream",
     "text": [
      "2.5\n",
      "2\n"
     ]
    }
   ],
   "source": [
    "koordinatList=[(2.5 , 2.4,1.4) , (2,4,9)]\n",
    "for (x,y,z) in koordinatList:\n",
    "    print (x)"
   ]
  },
  {
   "cell_type": "code",
   "execution_count": 19,
   "id": "5a06c734-544e-44a6-a0e9-cd16f145ac69",
   "metadata": {},
   "outputs": [
    {
     "name": "stdout",
     "output_type": "stream",
     "text": [
      "150\n",
      "100\n"
     ]
    }
   ],
   "source": [
    "sozluk={\"muz\": 150 , \"elma\": 100}\n",
    "for (anahtar,deger) in sozluk.items():\n",
    "    print(deger)"
   ]
  },
  {
   "cell_type": "code",
   "execution_count": null,
   "id": "527f3496-6601-4dee-8e11-1f127dfb09ae",
   "metadata": {},
   "outputs": [],
   "source": []
  }
 ],
 "metadata": {
  "kernelspec": {
   "display_name": "Python 3 (ipykernel)",
   "language": "python",
   "name": "python3"
  },
  "language_info": {
   "codemirror_mode": {
    "name": "ipython",
    "version": 3
   },
   "file_extension": ".py",
   "mimetype": "text/x-python",
   "name": "python",
   "nbconvert_exporter": "python",
   "pygments_lexer": "ipython3",
   "version": "3.12.7"
  }
 },
 "nbformat": 4,
 "nbformat_minor": 5
}
