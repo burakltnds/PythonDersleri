{
 "cells": [
  {
   "cell_type": "code",
   "execution_count": 2,
   "id": "0b6ba116-100c-4dbb-b1c8-84eb6afbff44",
   "metadata": {},
   "outputs": [],
   "source": [
    "class Hayvan():\n",
    "    def __init__(self):\n",
    "        print(\"Basladi\")\n",
    "    def hayvanSesi1(self):\n",
    "        print(\"Ses Geliyor\")\n",
    "    def hayvanSesi2(self):\n",
    "        print(\"Ses Bulanik Geliyor\")"
   ]
  },
  {
   "cell_type": "code",
   "execution_count": 3,
   "id": "158569af-d1e7-450a-89c0-9f81a145fb2a",
   "metadata": {},
   "outputs": [],
   "source": [
    "class Kedi(Hayvan):\n",
    "    def __init__(self):\n",
    "        Hayvan.__init__(self)\n",
    "        print(\"kedi sinifi init cagrisi\")\n",
    "    def kediSesi(self):\n",
    "        print(\"Miyaw\")"
   ]
  },
  {
   "cell_type": "code",
   "execution_count": 5,
   "id": "12931159-d649-405b-ad9c-8f1b1494cdc8",
   "metadata": {},
   "outputs": [
    {
     "name": "stdout",
     "output_type": "stream",
     "text": [
      "Basladi\n",
      "kedi sinifi init cagrisi\n",
      "Ses Geliyor\n",
      "Ses Bulanik Geliyor\n",
      "Miyaw\n"
     ]
    }
   ],
   "source": [
    "kedim=Kedi()\n",
    "kedim.hayvanSesi1()\n",
    "kedim.hayvanSesi2()\n",
    "kedim.kediSesi()"
   ]
  },
  {
   "cell_type": "code",
   "execution_count": null,
   "id": "31e2ded0-db0c-446f-ba24-24d1aa36e7c7",
   "metadata": {},
   "outputs": [],
   "source": []
  }
 ],
 "metadata": {
  "kernelspec": {
   "display_name": "Python 3 (ipykernel)",
   "language": "python",
   "name": "python3"
  },
  "language_info": {
   "codemirror_mode": {
    "name": "ipython",
    "version": 3
   },
   "file_extension": ".py",
   "mimetype": "text/x-python",
   "name": "python",
   "nbconvert_exporter": "python",
   "pygments_lexer": "ipython3",
   "version": "3.12.7"
  }
 },
 "nbformat": 4,
 "nbformat_minor": 5
}
