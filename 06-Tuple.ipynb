{
 "cells": [
  {
   "cell_type": "markdown",
   "id": "6e4d1d3c-4c77-4977-9be6-f5fb1f38dbd3",
   "metadata": {},
   "source": [
    "# Tuple\n",
    "Değiştirilemez Verileri Tutmak için Kullanılır"
   ]
  },
  {
   "cell_type": "code",
   "execution_count": 16,
   "id": "03fde509-588a-42ae-9e7f-c5d6ddd74a55",
   "metadata": {},
   "outputs": [
    {
     "name": "stdout",
     "output_type": "stream",
     "text": [
      "a\n"
     ]
    }
   ],
   "source": [
    "tuplem= (1,2,\"a\",3.7,\"a\",1,2)\n",
    "print (tuplem[2])\n",
    "# tuplem[0]=9 # Hata Verir Değiştiremezsin"
   ]
  },
  {
   "cell_type": "markdown",
   "id": "613b251d-acf7-421b-90ae-1e3526ccd6a7",
   "metadata": {},
   "source": [
    "## Hazır Fonksiyonlar"
   ]
  },
  {
   "cell_type": "code",
   "execution_count": 21,
   "id": "e18c8fc9-7248-4201-9d66-dbfd186829a7",
   "metadata": {},
   "outputs": [
    {
     "data": {
      "text/plain": [
       "2"
      ]
     },
     "execution_count": 21,
     "metadata": {},
     "output_type": "execute_result"
    }
   ],
   "source": [
    "tuplem.count(\"a\") #Elemandan Kaç Tane Olduğu\n",
    "tuplem.index(\"a\") #a nın index i"
   ]
  },
  {
   "cell_type": "code",
   "execution_count": null,
   "id": "3a970121-c9ba-4b80-84c8-80bb4633b150",
   "metadata": {},
   "outputs": [],
   "source": []
  }
 ],
 "metadata": {
  "kernelspec": {
   "display_name": "Python 3 (ipykernel)",
   "language": "python",
   "name": "python3"
  },
  "language_info": {
   "codemirror_mode": {
    "name": "ipython",
    "version": 3
   },
   "file_extension": ".py",
   "mimetype": "text/x-python",
   "name": "python",
   "nbconvert_exporter": "python",
   "pygments_lexer": "ipython3",
   "version": "3.12.7"
  }
 },
 "nbformat": 4,
 "nbformat_minor": 5
}
