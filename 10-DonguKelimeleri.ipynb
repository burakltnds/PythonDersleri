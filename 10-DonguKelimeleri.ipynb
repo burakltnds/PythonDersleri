{
 "cells": [
  {
   "cell_type": "markdown",
   "id": "9f0af8a3-bd8d-476a-b058-ae3b758f4701",
   "metadata": {},
   "source": [
    "# ContinueBreakPass"
   ]
  },
  {
   "cell_type": "code",
   "execution_count": 13,
   "id": "cb398f3a-dc1f-4142-80f2-337e88637a83",
   "metadata": {},
   "outputs": [
    {
     "name": "stdout",
     "output_type": "stream",
     "text": [
      "1\n",
      "2\n",
      "5\n",
      "4\n",
      "6\n",
      "8\n",
      "10\n"
     ]
    }
   ],
   "source": [
    "listem=[1,2,5,4,6,8,10]\n",
    "for i in listem:\n",
    "    if i==5:\n",
    "        break\n",
    "    print(i)\n",
    "    "
   ]
  },
  {
   "cell_type": "code",
   "execution_count": 14,
   "id": "c2bd3fb8-bf69-4391-8359-1251bf2d4694",
   "metadata": {},
   "outputs": [
    {
     "name": "stdout",
     "output_type": "stream",
     "text": [
      "1\n",
      "2\n",
      "4\n",
      "6\n",
      "8\n",
      "10\n"
     ]
    }
   ],
   "source": [
    "for i in listem:\n",
    "    if i==5:\n",
    "        continue\n",
    "    print(i)"
   ]
  },
  {
   "cell_type": "code",
   "execution_count": null,
   "id": "04fe7a4f-736f-4f01-a839-09efbfbc8e16",
   "metadata": {},
   "outputs": [],
   "source": [
    "for i in listem:\n",
    "    pass\n",
    "#şimdilik geçer sonradan doldurulur   "
   ]
  }
 ],
 "metadata": {
  "kernelspec": {
   "display_name": "Python 3 (ipykernel)",
   "language": "python",
   "name": "python3"
  },
  "language_info": {
   "codemirror_mode": {
    "name": "ipython",
    "version": 3
   },
   "file_extension": ".py",
   "mimetype": "text/x-python",
   "name": "python",
   "nbconvert_exporter": "python",
   "pygments_lexer": "ipython3",
   "version": "3.12.7"
  }
 },
 "nbformat": 4,
 "nbformat_minor": 5
}
