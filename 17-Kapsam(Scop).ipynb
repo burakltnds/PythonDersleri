{
 "cells": [
  {
   "cell_type": "markdown",
   "id": "e6300af1-83b0-4895-b8c9-21e17555de45",
   "metadata": {},
   "source": [
    "## Globaldeki Değişkeni Kullanma"
   ]
  },
  {
   "cell_type": "code",
   "execution_count": 10,
   "id": "b006ad37-13be-458d-973b-e6134c9ec9ee",
   "metadata": {},
   "outputs": [
    {
     "name": "stdout",
     "output_type": "stream",
     "text": [
      "50\n",
      "50\n"
     ]
    }
   ],
   "source": [
    "x=5\n",
    "def fonks():\n",
    "    global x\n",
    "    x = 50\n",
    "    print(x)\n",
    "fonks()\n",
    "print(x)"
   ]
  },
  {
   "cell_type": "code",
   "execution_count": 6,
   "id": "3ce307c2-4e33-49fe-8fa0-220969f3da30",
   "metadata": {},
   "outputs": [
    {
     "name": "stdout",
     "output_type": "stream",
     "text": [
      "5\n"
     ]
    }
   ],
   "source": []
  },
  {
   "cell_type": "code",
   "execution_count": null,
   "id": "ce85876e-105a-4dce-b4a6-cd15f5ed9757",
   "metadata": {},
   "outputs": [],
   "source": []
  }
 ],
 "metadata": {
  "kernelspec": {
   "display_name": "Python 3 (ipykernel)",
   "language": "python",
   "name": "python3"
  },
  "language_info": {
   "codemirror_mode": {
    "name": "ipython",
    "version": 3
   },
   "file_extension": ".py",
   "mimetype": "text/x-python",
   "name": "python",
   "nbconvert_exporter": "python",
   "pygments_lexer": "ipython3",
   "version": "3.12.7"
  }
 },
 "nbformat": 4,
 "nbformat_minor": 5
}
