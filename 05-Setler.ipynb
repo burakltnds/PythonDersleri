{
 "cells": [
  {
   "cell_type": "code",
   "execution_count": 11,
   "id": "430af288-ef7f-43e6-90e7-84119fd4a86b",
   "metadata": {},
   "outputs": [
    {
     "name": "stdout",
     "output_type": "stream",
     "text": [
      "{1, 2, 4, 5, 6}\n"
     ]
    }
   ],
   "source": [
    "#Listenin içine bir elemandan çok sayıda konulabilir setlerde olmaz\n",
    "#listeden çevirme\n",
    "listem=[1,2,6,4,4,5]\n",
    "setim=set(listem)\n",
    "print(setim)"
   ]
  },
  {
   "cell_type": "markdown",
   "id": "588c4427-982f-429d-bf08-63dacdfec423",
   "metadata": {},
   "source": [
    "## Set Olusturma"
   ]
  },
  {
   "cell_type": "code",
   "execution_count": 13,
   "id": "88f893d4-bb9a-4e4c-bc4a-5789e12bf742",
   "metadata": {},
   "outputs": [
    {
     "name": "stdout",
     "output_type": "stream",
     "text": [
      "{'c', 'b', 'a'}\n"
     ]
    }
   ],
   "source": [
    "setim2={\"a\",\"b\",\"c\",\"c\"}\n",
    "print(setim2)"
   ]
  },
  {
   "cell_type": "markdown",
   "id": "1a44755d-92e2-480f-87a7-7eeb9efa2d1f",
   "metadata": {},
   "source": [
    "## Bos Set Olusturma"
   ]
  },
  {
   "cell_type": "code",
   "execution_count": 14,
   "id": "c7472856-3d7a-48d5-bb22-23c85952e612",
   "metadata": {},
   "outputs": [
    {
     "data": {
      "text/plain": [
       "set"
      ]
     },
     "execution_count": 14,
     "metadata": {},
     "output_type": "execute_result"
    }
   ],
   "source": [
    "bosSet=set()\n",
    "type(bosSet)"
   ]
  },
  {
   "cell_type": "code",
   "execution_count": null,
   "id": "d0d82e25-9bda-4f5e-a811-92a4bed734cd",
   "metadata": {},
   "outputs": [],
   "source": []
  }
 ],
 "metadata": {
  "kernelspec": {
   "display_name": "Python 3 (ipykernel)",
   "language": "python",
   "name": "python3"
  },
  "language_info": {
   "codemirror_mode": {
    "name": "ipython",
    "version": 3
   },
   "file_extension": ".py",
   "mimetype": "text/x-python",
   "name": "python",
   "nbconvert_exporter": "python",
   "pygments_lexer": "ipython3",
   "version": "3.12.7"
  }
 },
 "nbformat": 4,
 "nbformat_minor": 5
}
