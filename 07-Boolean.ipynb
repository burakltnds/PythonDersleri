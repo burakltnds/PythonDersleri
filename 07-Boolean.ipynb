{
 "cells": [
  {
   "cell_type": "markdown",
   "id": "e28209e2-b191-446a-89bb-8e7536634a68",
   "metadata": {},
   "source": [
    "# BOOL"
   ]
  },
  {
   "cell_type": "code",
   "execution_count": 1,
   "id": "22b0eb86-b50c-49ba-999f-a0081a5270bb",
   "metadata": {},
   "outputs": [
    {
     "name": "stdout",
     "output_type": "stream",
     "text": [
      "True\n"
     ]
    }
   ],
   "source": [
    "booleanım=True\n",
    "print (booleanım)"
   ]
  },
  {
   "cell_type": "markdown",
   "id": "0ceb8ae3-4a7e-4bcb-bdba-98a35c3f7016",
   "metadata": {},
   "source": [
    "## Uygulamalar"
   ]
  },
  {
   "cell_type": "code",
   "execution_count": 11,
   "id": "d8a5ddd4-6b34-4e73-8db1-f5d0dde0333b",
   "metadata": {},
   "outputs": [
    {
     "name": "stdout",
     "output_type": "stream",
     "text": [
      "False\n"
     ]
    }
   ],
   "source": [
    "listem = [100,200,500,800,1250]\n",
    "sum(listem) #toplam\n",
    "len(listem) #uzunluk\n",
    "ortalama=sum(listem) / len(listem)\n",
    "print(listem[3] < ortalama) "
   ]
  },
  {
   "cell_type": "markdown",
   "id": "9abe4c90-e1fc-467e-b4ef-ef25222c0452",
   "metadata": {},
   "source": [
    "## Kontroller"
   ]
  },
  {
   "cell_type": "code",
   "execution_count": 22,
   "id": "8f2607c3-2de7-477f-9172-8709fe210c23",
   "metadata": {},
   "outputs": [
    {
     "name": "stdout",
     "output_type": "stream",
     "text": [
      "False\n",
      "True\n",
      "True\n"
     ]
    }
   ],
   "source": [
    "print(3>1 and 3<2)\n",
    "print(3<1 or 3<4)\n",
    "print(not 5==4)"
   ]
  },
  {
   "cell_type": "code",
   "execution_count": null,
   "id": "4066b29c-2e10-40e3-975d-e0218118006e",
   "metadata": {},
   "outputs": [],
   "source": []
  }
 ],
 "metadata": {
  "kernelspec": {
   "display_name": "Python 3 (ipykernel)",
   "language": "python",
   "name": "python3"
  },
  "language_info": {
   "codemirror_mode": {
    "name": "ipython",
    "version": 3
   },
   "file_extension": ".py",
   "mimetype": "text/x-python",
   "name": "python",
   "nbconvert_exporter": "python",
   "pygments_lexer": "ipython3",
   "version": "3.12.7"
  }
 },
 "nbformat": 4,
 "nbformat_minor": 5
}
