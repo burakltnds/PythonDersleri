{
 "cells": [
  {
   "cell_type": "code",
   "execution_count": 5,
   "id": "43c5573b-1b5c-42d5-be9c-fb2a422e8065",
   "metadata": {},
   "outputs": [
    {
     "name": "stdout",
     "output_type": "stream",
     "text": [
      "[10, 20, 30, 40, 50, 60, 70, 80, 100]\n"
     ]
    }
   ],
   "source": [
    "list=[10,20,30,40,50,60,70,80]"
   ]
  },
  {
   "cell_type": "markdown",
   "id": "685bdf6d-d7d4-4ab1-9ad5-38431bf0743e",
   "metadata": {},
   "source": [
    "## Liste Metodları"
   ]
  },
  {
   "cell_type": "code",
   "execution_count": 24,
   "id": "cbbc22b0-cd4b-4600-91c2-60385934ad16",
   "metadata": {},
   "outputs": [
    {
     "name": "stdout",
     "output_type": "stream",
     "text": [
      "None\n"
     ]
    }
   ],
   "source": [
    "list.append(x) #listeye x ekler\n",
    "list.pop() #son elemanı çıkarır\n",
    "list.remove(x) #x i çıkarır\n",
    "list.count(x) #x den kaç tane var"
   ]
  },
  {
   "cell_type": "markdown",
   "id": "f8fa3da4-c194-4681-a6fb-662a5c5f93ad",
   "metadata": {},
   "source": [
    "## Liste Birleştirme"
   ]
  },
  {
   "cell_type": "code",
   "execution_count": 34,
   "id": "8da087a3-65da-474c-bb0a-362741992c8a",
   "metadata": {},
   "outputs": [
    {
     "data": {
      "text/plain": [
       "[47, 98, 36, 25, 14, 36, 20, 41, 97, 24, 63, 20]"
      ]
     },
     "execution_count": 34,
     "metadata": {},
     "output_type": "execute_result"
    }
   ],
   "source": [
    "list1= [20,63,24,97,41,20,36]\n",
    "list2=[14,25,36,98,47]\n",
    "list3=list1+list2\n",
    "list3.reverse()  #sondan yazdırır"
   ]
  },
  {
   "cell_type": "markdown",
   "id": "60bf0ca9-27eb-4092-8fb5-1922249eec0a",
   "metadata": {},
   "source": [
    "## Liste Tekrarlama"
   ]
  },
  {
   "cell_type": "code",
   "execution_count": 27,
   "id": "08ad76c9-77ed-4c5a-9753-a715ddb74892",
   "metadata": {},
   "outputs": [
    {
     "data": {
      "text/plain": [
       "[36, 20, 41, 97, 24, 63, 20]"
      ]
     },
     "execution_count": 27,
     "metadata": {},
     "output_type": "execute_result"
    }
   ],
   "source": [
    "list1 * 5 #Listeyi 5 kez yazdırır"
   ]
  },
  {
   "cell_type": "markdown",
   "id": "16655ccd-013d-4bec-97de-b26a5c339b55",
   "metadata": {},
   "source": [
    "## Karışık Liste"
   ]
  },
  {
   "cell_type": "code",
   "execution_count": 38,
   "id": "66be2c31-3305-4c6b-a730-5b77425c1624",
   "metadata": {},
   "outputs": [
    {
     "data": {
      "text/plain": [
       "[1, 1.4, 'Burak', '@']"
      ]
     },
     "execution_count": 38,
     "metadata": {},
     "output_type": "execute_result"
    }
   ],
   "source": [
    "mixlist=[1,1.4,\"Burak\",'@']\n",
    "mixlist"
   ]
  },
  {
   "cell_type": "markdown",
   "id": "dd487681-550c-4ae1-af7c-9d4bf71a2687",
   "metadata": {},
   "source": [
    "## Nested Liste"
   ]
  },
  {
   "cell_type": "code",
   "execution_count": 51,
   "id": "859c3719-f847-4d12-b216-15ac58970ede",
   "metadata": {},
   "outputs": [
    {
     "data": {
      "text/plain": [
       "[1]"
      ]
     },
     "execution_count": 51,
     "metadata": {},
     "output_type": "execute_result"
    }
   ],
   "source": [
    "nestedList=[1,1.4,\"Burak\",'@',[1,5,7,['₺','$','#']]]\n",
    "#TL yi bu şekilde çağırabiliriz\n",
    "var = nestedList[4]\n",
    "var1 = var[3]\n",
    "var2= var1[0]\n",
    "#Bu şekilde çağırmayı tercih etmeliyiz\n",
    "nestedList[4][3][0]\n",
    "#İndex mantığıylada çağırılabilir\n",
    "nestedList[2:]"
   ]
  },
  {
   "cell_type": "code",
   "execution_count": null,
   "id": "b46450fa-5ad6-4cc4-a8bd-591d21a8b8b8",
   "metadata": {},
   "outputs": [],
   "source": []
  }
 ],
 "metadata": {
  "kernelspec": {
   "display_name": "Python 3 (ipykernel)",
   "language": "python",
   "name": "python3"
  },
  "language_info": {
   "codemirror_mode": {
    "name": "ipython",
    "version": 3
   },
   "file_extension": ".py",
   "mimetype": "text/x-python",
   "name": "python",
   "nbconvert_exporter": "python",
   "pygments_lexer": "ipython3",
   "version": "3.12.7"
  }
 },
 "nbformat": 4,
 "nbformat_minor": 5
}
