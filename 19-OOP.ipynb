{
 "cells": [
  {
   "cell_type": "markdown",
   "id": "96e873fa-e933-432d-b3e5-205096ff490c",
   "metadata": {},
   "source": [
    "## Intance && Attribute"
   ]
  },
  {
   "cell_type": "code",
   "execution_count": 38,
   "id": "87a7d974-0f44-4b40-af77-075294c873aa",
   "metadata": {},
   "outputs": [],
   "source": [
    "class SuperKahraman():\n",
    "    ozelGuc = \"Dovus\"\n",
    "    def __init__(self,isim,yas,meslek):\n",
    "        self.isim=isim\n",
    "        self.yas=yas\n",
    "        self.meslek=meslek\n",
    "    def sinifMetodu(self):\n",
    "        print(\"Karakterin Gucu\" , len(self.isim))"
   ]
  },
  {
   "cell_type": "markdown",
   "id": "09b9d242-58fb-412c-a2bd-66d4f3fa0a32",
   "metadata": {},
   "source": [
    "## Obje Olusturma"
   ]
  },
  {
   "cell_type": "code",
   "execution_count": 39,
   "id": "c7ce8aed-d9f1-4902-8c35-cd087527559f",
   "metadata": {},
   "outputs": [],
   "source": [
    "superMan = SuperKahraman(\"Clark Kent\",30,\"Gazeteci\")\n",
    "batMan = SuperKahraman(\"Bruce Wayne\", 40 , \"Iş Insanı\")\n",
    "daredevil = SuperKahraman(\"Matt Murdock\", 25 , \"Avukat\")\n",
    "punisher = SuperKahraman(\"FrankCastle\", 32 , \"Asker\")"
   ]
  },
  {
   "cell_type": "markdown",
   "id": "5a11cd5d-08fb-475a-ac4e-49455084967e",
   "metadata": {},
   "source": [
    "## Obje Çağırma"
   ]
  },
  {
   "cell_type": "code",
   "execution_count": 40,
   "id": "ec4a83af-fdd7-49b9-b1ec-272141edf36d",
   "metadata": {},
   "outputs": [
    {
     "name": "stdout",
     "output_type": "stream",
     "text": [
      "Clark Kent\n",
      "40\n",
      "Avukat\n",
      "FrankCastle\n",
      "Dovus\n",
      "Ucmak\n",
      "Karakterin Gucu 11\n"
     ]
    }
   ],
   "source": [
    "print(superMan.isim)\n",
    "print(batMan.yas)\n",
    "print(daredevil.meslek)\n",
    "print(punisher.isim)\n",
    "print(punisher.ozelGuc)\n",
    "superMan.ozelGuc=\"Ucmak\"\n",
    "print(superMan.ozelGuc)\n",
    "punisher.sinifMetodu()"
   ]
  },
  {
   "cell_type": "code",
   "execution_count": null,
   "id": "bda50b81-3ce1-4361-b052-9cebb638985b",
   "metadata": {},
   "outputs": [],
   "source": []
  }
 ],
 "metadata": {
  "kernelspec": {
   "display_name": "Python 3 (ipykernel)",
   "language": "python",
   "name": "python3"
  },
  "language_info": {
   "codemirror_mode": {
    "name": "ipython",
    "version": 3
   },
   "file_extension": ".py",
   "mimetype": "text/x-python",
   "name": "python",
   "nbconvert_exporter": "python",
   "pygments_lexer": "ipython3",
   "version": "3.12.7"
  }
 },
 "nbformat": 4,
 "nbformat_minor": 5
}
