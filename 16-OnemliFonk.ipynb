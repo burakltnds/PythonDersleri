{
 "cells": [
  {
   "cell_type": "code",
   "execution_count": 1,
   "id": "bf32d9d6-6a75-4a69-8703-f814d224185a",
   "metadata": {},
   "outputs": [
    {
     "data": {
      "text/plain": [
       "10.0"
      ]
     },
     "execution_count": 1,
     "metadata": {},
     "output_type": "execute_result"
    }
   ],
   "source": [
    "def bolme (numara):\n",
    "    return numara/2\n",
    "bolme(20)"
   ]
  },
  {
   "cell_type": "code",
   "execution_count": 4,
   "id": "81997bed-bd74-41e7-8ef2-cdd63dc5aeb6",
   "metadata": {},
   "outputs": [
    {
     "data": {
      "text/plain": [
       "[1.0, 2.0, 3.0, 4.0, 5.0, 6.0, 7.0, 8.0, 9.0, 10.0]"
      ]
     },
     "execution_count": 4,
     "metadata": {},
     "output_type": "execute_result"
    }
   ],
   "source": [
    "listem=[2,4,6,8,10,12,14,16,18,20]\n",
    "bosListe=[]\n",
    "for i in listem:\n",
    "    bosListe.append(bolme(i))\n",
    "bosListe"
   ]
  },
  {
   "cell_type": "markdown",
   "id": "e6bef2e9-666a-4ed1-87e1-0e5dea50998a",
   "metadata": {},
   "source": [
    "## MAP"
   ]
  },
  {
   "cell_type": "code",
   "execution_count": 7,
   "id": "138b5a55-d88e-4ddd-b702-a068c3ad68f4",
   "metadata": {},
   "outputs": [
    {
     "data": {
      "text/plain": [
       "[1.0, 2.0, 3.0, 4.0, 5.0, 6.0, 7.0, 8.0, 9.0, 10.0]"
      ]
     },
     "execution_count": 7,
     "metadata": {},
     "output_type": "execute_result"
    }
   ],
   "source": [
    "#fonksiyonları listelerde uygular\n",
    "list(map(bolme,listem))\n"
   ]
  },
  {
   "cell_type": "markdown",
   "id": "622410d0-7f90-463f-9991-fc3b6d6be43f",
   "metadata": {},
   "source": [
    "## Filter"
   ]
  },
  {
   "cell_type": "code",
   "execution_count": 20,
   "id": "788443b6-180f-42ea-bf78-27a58acd4133",
   "metadata": {},
   "outputs": [
    {
     "data": {
      "text/plain": [
       "3"
      ]
     },
     "execution_count": 20,
     "metadata": {},
     "output_type": "execute_result"
    }
   ],
   "source": [
    "def kontrol(x):\n",
    "    return \"a\" in x\n",
    "stringListem=[\"burak\",\"ahmet\",\"yunus\",\"memos\",\"adana\"]\n",
    "list(filter(kontrol,stringListem)) #içinde a olanları filitrelicek\n",
    "sonucList=list(map(kontrol,stringListem)) #elemanları tek tek inceler\n",
    "sonucList.count(True) #true ları sayar\n"
   ]
  },
  {
   "cell_type": "markdown",
   "id": "aa59c82f-3cb1-49a0-8a56-9333e226a356",
   "metadata": {},
   "source": [
    "## Lambda"
   ]
  },
  {
   "cell_type": "code",
   "execution_count": 21,
   "id": "bd99bae6-0d75-4cfb-b336-2f6e0159cf48",
   "metadata": {},
   "outputs": [
    {
     "data": {
      "text/plain": [
       "[4.0, 8.0, 12.0, 16.0, 20.0, 24.0, 28.0, 32.0, 36.0, 40.0]"
      ]
     },
     "execution_count": 21,
     "metadata": {},
     "output_type": "execute_result"
    }
   ],
   "source": [
    "carpma =lambda numara : numara * 3 # tek satırda fonksiyon yazar\n",
    "list(map(lambda numara: numara *4 , bosListe))"
   ]
  },
  {
   "cell_type": "code",
   "execution_count": null,
   "id": "168f3d9a-558f-4051-ab30-8b12b4a72a25",
   "metadata": {},
   "outputs": [],
   "source": []
  }
 ],
 "metadata": {
  "kernelspec": {
   "display_name": "Python 3 (ipykernel)",
   "language": "python",
   "name": "python3"
  },
  "language_info": {
   "codemirror_mode": {
    "name": "ipython",
    "version": 3
   },
   "file_extension": ".py",
   "mimetype": "text/x-python",
   "name": "python",
   "nbconvert_exporter": "python",
   "pygments_lexer": "ipython3",
   "version": "3.12.7"
  }
 },
 "nbformat": 4,
 "nbformat_minor": 5
}
