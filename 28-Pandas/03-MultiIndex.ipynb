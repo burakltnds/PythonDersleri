{
 "cells": [
  {
   "cell_type": "code",
   "execution_count": 16,
   "id": "2d1eb953-ec2c-4e19-af33-258d0f86f968",
   "metadata": {},
   "outputs": [],
   "source": [
    "import numpy as np\n",
    "import pandas as pd"
   ]
  },
  {
   "cell_type": "code",
   "execution_count": 17,
   "id": "490cfca7-19e7-4e86-b619-4abd4e992f91",
   "metadata": {},
   "outputs": [],
   "source": [
    "ilkIndexler=[\"Regular Show\" , \"Regular Show\",\"Regular Show\",\"Adventure Time\",\"Adventure Time\",\"Adventure Time\"]\n",
    "icIndexler =[\"Mordecai\" ,\"Rigby\" ,\"Benson\",\"Finn\",\"Jake\",\"BMO\"]"
   ]
  },
  {
   "cell_type": "markdown",
   "id": "6522f995-a264-45bb-ad8f-ec6fb277acf8",
   "metadata": {},
   "source": [
    "## Birleşmiş Indexler\n"
   ]
  },
  {
   "cell_type": "code",
   "execution_count": 18,
   "id": "94804c8d-0bb3-4e3f-847e-290ab856fcf5",
   "metadata": {},
   "outputs": [],
   "source": [
    "birlesim = list(zip(ilkIndexler,icIndexler))\n",
    "birlesim = pd.MultiIndex.from_tuples(birlesim)"
   ]
  },
  {
   "cell_type": "code",
   "execution_count": 19,
   "id": "f55b5596-5e75-47fb-b73e-34768fb34393",
   "metadata": {},
   "outputs": [],
   "source": [
    "cizgiFilm = [[19,\"Park Calisani\"],[16,\"Park Calisani\"],[30,\"Park Muduru\"],[18,\"Savasci\"],[18,\"Yardimci\"],[0,\"Robot\"]]\n",
    "cizgiFilmNumpy = np.array(cizgiFilm)"
   ]
  },
  {
   "cell_type": "code",
   "execution_count": 20,
   "id": "c2c8b6d2-1f82-443e-8cc0-0861dbea7e85",
   "metadata": {},
   "outputs": [
    {
     "data": {
      "text/html": [
       "<div>\n",
       "<style scoped>\n",
       "    .dataframe tbody tr th:only-of-type {\n",
       "        vertical-align: middle;\n",
       "    }\n",
       "\n",
       "    .dataframe tbody tr th {\n",
       "        vertical-align: top;\n",
       "    }\n",
       "\n",
       "    .dataframe thead th {\n",
       "        text-align: right;\n",
       "    }\n",
       "</style>\n",
       "<table border=\"1\" class=\"dataframe\">\n",
       "  <thead>\n",
       "    <tr style=\"text-align: right;\">\n",
       "      <th></th>\n",
       "      <th></th>\n",
       "      <th>Yas</th>\n",
       "      <th>Meslek</th>\n",
       "    </tr>\n",
       "  </thead>\n",
       "  <tbody>\n",
       "    <tr>\n",
       "      <th rowspan=\"3\" valign=\"top\">Regular Show</th>\n",
       "      <th>Mordecai</th>\n",
       "      <td>19</td>\n",
       "      <td>Park Calisani</td>\n",
       "    </tr>\n",
       "    <tr>\n",
       "      <th>Rigby</th>\n",
       "      <td>16</td>\n",
       "      <td>Park Calisani</td>\n",
       "    </tr>\n",
       "    <tr>\n",
       "      <th>Benson</th>\n",
       "      <td>30</td>\n",
       "      <td>Park Muduru</td>\n",
       "    </tr>\n",
       "    <tr>\n",
       "      <th rowspan=\"3\" valign=\"top\">Adventure Time</th>\n",
       "      <th>Finn</th>\n",
       "      <td>18</td>\n",
       "      <td>Savasci</td>\n",
       "    </tr>\n",
       "    <tr>\n",
       "      <th>Jake</th>\n",
       "      <td>18</td>\n",
       "      <td>Yardimci</td>\n",
       "    </tr>\n",
       "    <tr>\n",
       "      <th>BMO</th>\n",
       "      <td>0</td>\n",
       "      <td>Robot</td>\n",
       "    </tr>\n",
       "  </tbody>\n",
       "</table>\n",
       "</div>"
      ],
      "text/plain": [
       "                        Yas         Meslek\n",
       "Regular Show   Mordecai  19  Park Calisani\n",
       "               Rigby     16  Park Calisani\n",
       "               Benson    30    Park Muduru\n",
       "Adventure Time Finn      18        Savasci\n",
       "               Jake      18       Yardimci\n",
       "               BMO        0          Robot"
      ]
     },
     "execution_count": 20,
     "metadata": {},
     "output_type": "execute_result"
    }
   ],
   "source": [
    "cizgiFilmDataFrame = pd.DataFrame(cizgiFilmNumpy , index = birlesim ,columns=[\"Yas\",\"Meslek\"])\n",
    "cizgiFilmDataFrame"
   ]
  },
  {
   "cell_type": "code",
   "execution_count": 24,
   "id": "89f40194-b387-4d23-b6e1-a69981c943da",
   "metadata": {},
   "outputs": [
    {
     "data": {
      "text/html": [
       "<div>\n",
       "<style scoped>\n",
       "    .dataframe tbody tr th:only-of-type {\n",
       "        vertical-align: middle;\n",
       "    }\n",
       "\n",
       "    .dataframe tbody tr th {\n",
       "        vertical-align: top;\n",
       "    }\n",
       "\n",
       "    .dataframe thead th {\n",
       "        text-align: right;\n",
       "    }\n",
       "</style>\n",
       "<table border=\"1\" class=\"dataframe\">\n",
       "  <thead>\n",
       "    <tr style=\"text-align: right;\">\n",
       "      <th></th>\n",
       "      <th>Yas</th>\n",
       "      <th>Meslek</th>\n",
       "    </tr>\n",
       "  </thead>\n",
       "  <tbody>\n",
       "    <tr>\n",
       "      <th>Mordecai</th>\n",
       "      <td>19</td>\n",
       "      <td>Park Calisani</td>\n",
       "    </tr>\n",
       "    <tr>\n",
       "      <th>Rigby</th>\n",
       "      <td>16</td>\n",
       "      <td>Park Calisani</td>\n",
       "    </tr>\n",
       "    <tr>\n",
       "      <th>Benson</th>\n",
       "      <td>30</td>\n",
       "      <td>Park Muduru</td>\n",
       "    </tr>\n",
       "  </tbody>\n",
       "</table>\n",
       "</div>"
      ],
      "text/plain": [
       "         Yas         Meslek\n",
       "Mordecai  19  Park Calisani\n",
       "Rigby     16  Park Calisani\n",
       "Benson    30    Park Muduru"
      ]
     },
     "execution_count": 24,
     "metadata": {},
     "output_type": "execute_result"
    }
   ],
   "source": [
    "cizgiFilmDataFrame.loc[\"Regular Show\"]"
   ]
  },
  {
   "cell_type": "code",
   "execution_count": 25,
   "id": "83129d5c-1d45-4124-806d-f854d9f64e18",
   "metadata": {},
   "outputs": [
    {
     "data": {
      "text/plain": [
       "Yas                  16\n",
       "Meslek    Park Calisani\n",
       "Name: Rigby, dtype: object"
      ]
     },
     "execution_count": 25,
     "metadata": {},
     "output_type": "execute_result"
    }
   ],
   "source": [
    "cizgiFilmDataFrame.loc[\"Regular Show\"].loc[\"Rigby\"]"
   ]
  },
  {
   "cell_type": "code",
   "execution_count": 28,
   "id": "46aa2f26-93b3-430a-9591-24955eaf606b",
   "metadata": {},
   "outputs": [
    {
     "data": {
      "text/html": [
       "<div>\n",
       "<style scoped>\n",
       "    .dataframe tbody tr th:only-of-type {\n",
       "        vertical-align: middle;\n",
       "    }\n",
       "\n",
       "    .dataframe tbody tr th {\n",
       "        vertical-align: top;\n",
       "    }\n",
       "\n",
       "    .dataframe thead th {\n",
       "        text-align: right;\n",
       "    }\n",
       "</style>\n",
       "<table border=\"1\" class=\"dataframe\">\n",
       "  <thead>\n",
       "    <tr style=\"text-align: right;\">\n",
       "      <th></th>\n",
       "      <th></th>\n",
       "      <th>Yas</th>\n",
       "      <th>Meslek</th>\n",
       "    </tr>\n",
       "    <tr>\n",
       "      <th>Cizgi Film</th>\n",
       "      <th>Isim</th>\n",
       "      <th></th>\n",
       "      <th></th>\n",
       "    </tr>\n",
       "  </thead>\n",
       "  <tbody>\n",
       "    <tr>\n",
       "      <th rowspan=\"3\" valign=\"top\">Regular Show</th>\n",
       "      <th>Mordecai</th>\n",
       "      <td>19</td>\n",
       "      <td>Park Calisani</td>\n",
       "    </tr>\n",
       "    <tr>\n",
       "      <th>Rigby</th>\n",
       "      <td>16</td>\n",
       "      <td>Park Calisani</td>\n",
       "    </tr>\n",
       "    <tr>\n",
       "      <th>Benson</th>\n",
       "      <td>30</td>\n",
       "      <td>Park Muduru</td>\n",
       "    </tr>\n",
       "    <tr>\n",
       "      <th rowspan=\"3\" valign=\"top\">Adventure Time</th>\n",
       "      <th>Finn</th>\n",
       "      <td>18</td>\n",
       "      <td>Savasci</td>\n",
       "    </tr>\n",
       "    <tr>\n",
       "      <th>Jake</th>\n",
       "      <td>18</td>\n",
       "      <td>Yardimci</td>\n",
       "    </tr>\n",
       "    <tr>\n",
       "      <th>BMO</th>\n",
       "      <td>0</td>\n",
       "      <td>Robot</td>\n",
       "    </tr>\n",
       "  </tbody>\n",
       "</table>\n",
       "</div>"
      ],
      "text/plain": [
       "                        Yas         Meslek\n",
       "Cizgi Film     Isim                       \n",
       "Regular Show   Mordecai  19  Park Calisani\n",
       "               Rigby     16  Park Calisani\n",
       "               Benson    30    Park Muduru\n",
       "Adventure Time Finn      18        Savasci\n",
       "               Jake      18       Yardimci\n",
       "               BMO        0          Robot"
      ]
     },
     "execution_count": 28,
     "metadata": {},
     "output_type": "execute_result"
    }
   ],
   "source": [
    "cizgiFilmDataFrame.index.names = [\"Cizgi Film\",\"Isim\"]\n",
    "cizgiFilmDataFrame"
   ]
  },
  {
   "cell_type": "code",
   "execution_count": null,
   "id": "09c211dc-3a61-4004-893c-f53829eb59a9",
   "metadata": {},
   "outputs": [],
   "source": []
  }
 ],
 "metadata": {
  "kernelspec": {
   "display_name": "Python 3 (ipykernel)",
   "language": "python",
   "name": "python3"
  },
  "language_info": {
   "codemirror_mode": {
    "name": "ipython",
    "version": 3
   },
   "file_extension": ".py",
   "mimetype": "text/x-python",
   "name": "python",
   "nbconvert_exporter": "python",
   "pygments_lexer": "ipython3",
   "version": "3.12.7"
  }
 },
 "nbformat": 4,
 "nbformat_minor": 5
}
