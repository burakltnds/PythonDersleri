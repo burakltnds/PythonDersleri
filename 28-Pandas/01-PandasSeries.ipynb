{
 "cells": [
  {
   "cell_type": "code",
   "execution_count": 3,
   "id": "ee8f00b2-c687-4c30-a1da-c03d8a238dd0",
   "metadata": {},
   "outputs": [],
   "source": [
    "import numpy as np\n",
    "import pandas as pd"
   ]
  },
  {
   "cell_type": "code",
   "execution_count": 4,
   "id": "1af096f6-1f2d-4459-976e-fde8b54dc01c",
   "metadata": {},
   "outputs": [
    {
     "name": "stdout",
     "output_type": "stream",
     "text": [
      "Burak     90\n",
      "Ahmet     70\n",
      "Mehmet    74\n",
      "dtype: int64\n"
     ]
    }
   ],
   "source": [
    "sozluk={\"Burak\":90 , \"Ahmet\":70 ,\"Mehmet\":74}\n",
    "print(pd.Series(sozluk))"
   ]
  },
  {
   "cell_type": "code",
   "execution_count": 5,
   "id": "fcd2e5cc-5fc3-49b4-990c-1bedf6a4ae1b",
   "metadata": {},
   "outputs": [
    {
     "data": {
      "text/plain": [
       "0    20\n",
       "1    30\n",
       "2    40\n",
       "dtype: int64"
      ]
     },
     "execution_count": 5,
     "metadata": {},
     "output_type": "execute_result"
    }
   ],
   "source": [
    "yaslar=[20,30,40]\n",
    "isimler=[\"Burak\",\"Metre\",\"Hakan\"]\n",
    "pd.Series(yaslar)"
   ]
  },
  {
   "cell_type": "code",
   "execution_count": 6,
   "id": "e85de5d4-0f5a-4bee-ae6d-86b09592a82b",
   "metadata": {},
   "outputs": [
    {
     "data": {
      "text/plain": [
       "20    Burak\n",
       "30    Metre\n",
       "40    Hakan\n",
       "dtype: object"
      ]
     },
     "execution_count": 6,
     "metadata": {},
     "output_type": "execute_result"
    }
   ],
   "source": [
    "pd.Series(index=yaslar,data=isimler)"
   ]
  },
  {
   "cell_type": "code",
   "execution_count": 7,
   "id": "5d616fde-b159-4f13-b1d9-1a8d6ae68177",
   "metadata": {},
   "outputs": [
    {
     "data": {
      "text/plain": [
       "Burak    20\n",
       "Metre    30\n",
       "Hakan    40\n",
       "dtype: int64"
      ]
     },
     "execution_count": 7,
     "metadata": {},
     "output_type": "execute_result"
    }
   ],
   "source": [
    "pd.Series(data=yaslar,index=isimler)"
   ]
  },
  {
   "cell_type": "code",
   "execution_count": 8,
   "id": "e084b32a-69ee-42d7-9ae2-8b7a73bb1642",
   "metadata": {},
   "outputs": [
    {
     "data": {
      "text/plain": [
       "Burak    20\n",
       "Metre    40\n",
       "Hakan    30\n",
       "dtype: int32"
      ]
     },
     "execution_count": 8,
     "metadata": {},
     "output_type": "execute_result"
    }
   ],
   "source": [
    "numpyDizi=np.array([20,40,30])\n",
    "pd.Series(numpyDizi,isimler)"
   ]
  },
  {
   "cell_type": "code",
   "execution_count": 9,
   "id": "dc34a74b-92aa-49bf-b757-845eee999b31",
   "metadata": {},
   "outputs": [
    {
     "data": {
      "text/plain": [
       "1     Burak\n",
       "2     Ahmet\n",
       "3    Mehmet\n",
       "dtype: object"
      ]
     },
     "execution_count": 9,
     "metadata": {},
     "output_type": "execute_result"
    }
   ],
   "source": [
    "pd.Series([\"Burak\",\"Ahmet\",\"Mehmet\"] , [1,2,3] )"
   ]
  },
  {
   "cell_type": "markdown",
   "id": "24a74756-b439-45ea-9f84-4ace7b8708dd",
   "metadata": {},
   "source": [
    "## İşlemler"
   ]
  },
  {
   "cell_type": "code",
   "execution_count": 11,
   "id": "9814153d-b59c-470a-aee8-6f4928fb5f77",
   "metadata": {},
   "outputs": [
    {
     "data": {
      "text/plain": [
       "10"
      ]
     },
     "execution_count": 11,
     "metadata": {},
     "output_type": "execute_result"
    }
   ],
   "source": [
    "yarisma = pd.Series([10,42,30] , [\"Burak\" , \"Ahmet\" , \"Mehmet\"])\n",
    "yarisma[\"Burak\"]"
   ]
  },
  {
   "cell_type": "code",
   "execution_count": 15,
   "id": "946e9093-62bc-467b-9e90-34c81d3fe29d",
   "metadata": {},
   "outputs": [
    {
     "data": {
      "text/plain": [
       "Burak     57\n",
       "Ahmet     62\n",
       "Mehmet    55\n",
       "dtype: int64"
      ]
     },
     "execution_count": 15,
     "metadata": {},
     "output_type": "execute_result"
    }
   ],
   "source": [
    "yarisma2 = pd.Series([47,20,25] , [\"Burak\" , \"Ahmet\" , \"Mehmet\"])\n",
    "son = yarisma + yarisma2\n",
    "son"
   ]
  },
  {
   "cell_type": "code",
   "execution_count": null,
   "id": "466f2ec0-2296-45f1-861c-72faaa5606f9",
   "metadata": {},
   "outputs": [],
   "source": []
  }
 ],
 "metadata": {
  "kernelspec": {
   "display_name": "Python 3 (ipykernel)",
   "language": "python",
   "name": "python3"
  },
  "language_info": {
   "codemirror_mode": {
    "name": "ipython",
    "version": 3
   },
   "file_extension": ".py",
   "mimetype": "text/x-python",
   "name": "python",
   "nbconvert_exporter": "python",
   "pygments_lexer": "ipython3",
   "version": "3.12.7"
  }
 },
 "nbformat": 4,
 "nbformat_minor": 5
}
