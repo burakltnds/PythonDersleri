{
 "cells": [
  {
   "cell_type": "code",
   "execution_count": 66,
   "id": "e188b9e0-0916-400d-a0a4-109261816681",
   "metadata": {},
   "outputs": [],
   "source": [
    "import numpy as np\n",
    "import pandas as pd"
   ]
  },
  {
   "cell_type": "code",
   "execution_count": 67,
   "id": "835834ab-a692-40fa-b90b-b01637effefb",
   "metadata": {},
   "outputs": [
    {
     "data": {
      "text/plain": [
       "array([[ 1.0232303 ,  0.56876884,  0.39285812],\n",
       "       [-1.15814532, -0.37293269,  0.7721177 ],\n",
       "       [-2.51365693,  0.28661646,  0.51059391],\n",
       "       [-0.4963429 , -0.13887002,  0.466875  ]])"
      ]
     },
     "execution_count": 67,
     "metadata": {},
     "output_type": "execute_result"
    }
   ],
   "source": [
    "data = np.random.randn(4,3)\n",
    "data"
   ]
  },
  {
   "cell_type": "code",
   "execution_count": 68,
   "id": "1d0783c0-4174-4cd2-a4e6-df6038e490f9",
   "metadata": {},
   "outputs": [
    {
     "data": {
      "text/html": [
       "<div>\n",
       "<style scoped>\n",
       "    .dataframe tbody tr th:only-of-type {\n",
       "        vertical-align: middle;\n",
       "    }\n",
       "\n",
       "    .dataframe tbody tr th {\n",
       "        vertical-align: top;\n",
       "    }\n",
       "\n",
       "    .dataframe thead th {\n",
       "        text-align: right;\n",
       "    }\n",
       "</style>\n",
       "<table border=\"1\" class=\"dataframe\">\n",
       "  <thead>\n",
       "    <tr style=\"text-align: right;\">\n",
       "      <th></th>\n",
       "      <th>0</th>\n",
       "      <th>1</th>\n",
       "      <th>2</th>\n",
       "    </tr>\n",
       "  </thead>\n",
       "  <tbody>\n",
       "    <tr>\n",
       "      <th>0</th>\n",
       "      <td>1.023230</td>\n",
       "      <td>0.568769</td>\n",
       "      <td>0.392858</td>\n",
       "    </tr>\n",
       "    <tr>\n",
       "      <th>1</th>\n",
       "      <td>-1.158145</td>\n",
       "      <td>-0.372933</td>\n",
       "      <td>0.772118</td>\n",
       "    </tr>\n",
       "    <tr>\n",
       "      <th>2</th>\n",
       "      <td>-2.513657</td>\n",
       "      <td>0.286616</td>\n",
       "      <td>0.510594</td>\n",
       "    </tr>\n",
       "    <tr>\n",
       "      <th>3</th>\n",
       "      <td>-0.496343</td>\n",
       "      <td>-0.138870</td>\n",
       "      <td>0.466875</td>\n",
       "    </tr>\n",
       "  </tbody>\n",
       "</table>\n",
       "</div>"
      ],
      "text/plain": [
       "          0         1         2\n",
       "0  1.023230  0.568769  0.392858\n",
       "1 -1.158145 -0.372933  0.772118\n",
       "2 -2.513657  0.286616  0.510594\n",
       "3 -0.496343 -0.138870  0.466875"
      ]
     },
     "execution_count": 68,
     "metadata": {},
     "output_type": "execute_result"
    }
   ],
   "source": [
    "dataFrame = pd.DataFrame(data)\n",
    "dataFrame"
   ]
  },
  {
   "cell_type": "code",
   "execution_count": 69,
   "id": "89861666-24c3-4079-ba15-058b175da296",
   "metadata": {},
   "outputs": [
    {
     "data": {
      "text/html": [
       "<div>\n",
       "<style scoped>\n",
       "    .dataframe tbody tr th:only-of-type {\n",
       "        vertical-align: middle;\n",
       "    }\n",
       "\n",
       "    .dataframe tbody tr th {\n",
       "        vertical-align: top;\n",
       "    }\n",
       "\n",
       "    .dataframe thead th {\n",
       "        text-align: right;\n",
       "    }\n",
       "</style>\n",
       "<table border=\"1\" class=\"dataframe\">\n",
       "  <thead>\n",
       "    <tr style=\"text-align: right;\">\n",
       "      <th></th>\n",
       "      <th>Maas</th>\n",
       "      <th>Yas</th>\n",
       "      <th>Calisma Saati</th>\n",
       "    </tr>\n",
       "  </thead>\n",
       "  <tbody>\n",
       "    <tr>\n",
       "      <th>Burak</th>\n",
       "      <td>1.023230</td>\n",
       "      <td>0.568769</td>\n",
       "      <td>0.392858</td>\n",
       "    </tr>\n",
       "    <tr>\n",
       "      <th>Mehmet</th>\n",
       "      <td>-1.158145</td>\n",
       "      <td>-0.372933</td>\n",
       "      <td>0.772118</td>\n",
       "    </tr>\n",
       "    <tr>\n",
       "      <th>Ahmet</th>\n",
       "      <td>-2.513657</td>\n",
       "      <td>0.286616</td>\n",
       "      <td>0.510594</td>\n",
       "    </tr>\n",
       "    <tr>\n",
       "      <th>Atil</th>\n",
       "      <td>-0.496343</td>\n",
       "      <td>-0.138870</td>\n",
       "      <td>0.466875</td>\n",
       "    </tr>\n",
       "  </tbody>\n",
       "</table>\n",
       "</div>"
      ],
      "text/plain": [
       "            Maas       Yas  Calisma Saati\n",
       "Burak   1.023230  0.568769       0.392858\n",
       "Mehmet -1.158145 -0.372933       0.772118\n",
       "Ahmet  -2.513657  0.286616       0.510594\n",
       "Atil   -0.496343 -0.138870       0.466875"
      ]
     },
     "execution_count": 69,
     "metadata": {},
     "output_type": "execute_result"
    }
   ],
   "source": [
    "dataFrame2 = pd.DataFrame(data,index=[\"Burak\",\"Mehmet\",\"Ahmet\",\"Atil\"],columns=[\"Maas\",\"Yas\",\"Calisma Saati\"])\n",
    "dataFrame2"
   ]
  },
  {
   "cell_type": "code",
   "execution_count": 70,
   "id": "7030abc6-7093-4761-9ec4-857e6239cc59",
   "metadata": {},
   "outputs": [
    {
     "data": {
      "text/plain": [
       "Burak     0.568769\n",
       "Mehmet   -0.372933\n",
       "Ahmet     0.286616\n",
       "Atil     -0.138870\n",
       "Name: Yas, dtype: float64"
      ]
     },
     "execution_count": 70,
     "metadata": {},
     "output_type": "execute_result"
    }
   ],
   "source": [
    "dataFrame2[\"Yas\"]"
   ]
  },
  {
   "cell_type": "code",
   "execution_count": 71,
   "id": "4ecddc25-823d-4cde-92c8-5f40a2b3ac09",
   "metadata": {},
   "outputs": [
    {
     "data": {
      "text/html": [
       "<div>\n",
       "<style scoped>\n",
       "    .dataframe tbody tr th:only-of-type {\n",
       "        vertical-align: middle;\n",
       "    }\n",
       "\n",
       "    .dataframe tbody tr th {\n",
       "        vertical-align: top;\n",
       "    }\n",
       "\n",
       "    .dataframe thead th {\n",
       "        text-align: right;\n",
       "    }\n",
       "</style>\n",
       "<table border=\"1\" class=\"dataframe\">\n",
       "  <thead>\n",
       "    <tr style=\"text-align: right;\">\n",
       "      <th></th>\n",
       "      <th>Maas</th>\n",
       "      <th>Yas</th>\n",
       "    </tr>\n",
       "  </thead>\n",
       "  <tbody>\n",
       "    <tr>\n",
       "      <th>Burak</th>\n",
       "      <td>1.023230</td>\n",
       "      <td>0.568769</td>\n",
       "    </tr>\n",
       "    <tr>\n",
       "      <th>Mehmet</th>\n",
       "      <td>-1.158145</td>\n",
       "      <td>-0.372933</td>\n",
       "    </tr>\n",
       "    <tr>\n",
       "      <th>Ahmet</th>\n",
       "      <td>-2.513657</td>\n",
       "      <td>0.286616</td>\n",
       "    </tr>\n",
       "    <tr>\n",
       "      <th>Atil</th>\n",
       "      <td>-0.496343</td>\n",
       "      <td>-0.138870</td>\n",
       "    </tr>\n",
       "  </tbody>\n",
       "</table>\n",
       "</div>"
      ],
      "text/plain": [
       "            Maas       Yas\n",
       "Burak   1.023230  0.568769\n",
       "Mehmet -1.158145 -0.372933\n",
       "Ahmet  -2.513657  0.286616\n",
       "Atil   -0.496343 -0.138870"
      ]
     },
     "execution_count": 71,
     "metadata": {},
     "output_type": "execute_result"
    }
   ],
   "source": [
    "dataFrame2[[\"Maas\" , \"Yas\"]]"
   ]
  },
  {
   "cell_type": "code",
   "execution_count": 72,
   "id": "82b64823-bdb2-4b15-98ad-b2bc5e5bba54",
   "metadata": {},
   "outputs": [
    {
     "data": {
      "text/plain": [
       "Maas             1.023230\n",
       "Yas              0.568769\n",
       "Calisma Saati    0.392858\n",
       "Name: Burak, dtype: float64"
      ]
     },
     "execution_count": 72,
     "metadata": {},
     "output_type": "execute_result"
    }
   ],
   "source": [
    "dataFrame2.loc[\"Burak\"]\n",
    "dataFrame2.iloc[0]"
   ]
  },
  {
   "cell_type": "code",
   "execution_count": null,
   "id": "fce2d868-5715-4034-9769-8642cb425515",
   "metadata": {},
   "outputs": [],
   "source": []
  },
  {
   "cell_type": "markdown",
   "id": "1f8656e3-8f88-4431-bd70-ba704df0fa16",
   "metadata": {},
   "source": [
    "## Yeni sutun ekleme"
   ]
  },
  {
   "cell_type": "code",
   "execution_count": 73,
   "id": "8d1d1d41-405f-47db-bf64-2410ed34d773",
   "metadata": {},
   "outputs": [
    {
     "data": {
      "text/html": [
       "<div>\n",
       "<style scoped>\n",
       "    .dataframe tbody tr th:only-of-type {\n",
       "        vertical-align: middle;\n",
       "    }\n",
       "\n",
       "    .dataframe tbody tr th {\n",
       "        vertical-align: top;\n",
       "    }\n",
       "\n",
       "    .dataframe thead th {\n",
       "        text-align: right;\n",
       "    }\n",
       "</style>\n",
       "<table border=\"1\" class=\"dataframe\">\n",
       "  <thead>\n",
       "    <tr style=\"text-align: right;\">\n",
       "      <th></th>\n",
       "      <th>Maas</th>\n",
       "      <th>Yas</th>\n",
       "      <th>Calisma Saati</th>\n",
       "      <th>Emeklilik</th>\n",
       "    </tr>\n",
       "  </thead>\n",
       "  <tbody>\n",
       "    <tr>\n",
       "      <th>Burak</th>\n",
       "      <td>1.023230</td>\n",
       "      <td>0.568769</td>\n",
       "      <td>0.392858</td>\n",
       "      <td>1.137538</td>\n",
       "    </tr>\n",
       "    <tr>\n",
       "      <th>Mehmet</th>\n",
       "      <td>-1.158145</td>\n",
       "      <td>-0.372933</td>\n",
       "      <td>0.772118</td>\n",
       "      <td>-0.745865</td>\n",
       "    </tr>\n",
       "    <tr>\n",
       "      <th>Ahmet</th>\n",
       "      <td>-2.513657</td>\n",
       "      <td>0.286616</td>\n",
       "      <td>0.510594</td>\n",
       "      <td>0.573233</td>\n",
       "    </tr>\n",
       "    <tr>\n",
       "      <th>Atil</th>\n",
       "      <td>-0.496343</td>\n",
       "      <td>-0.138870</td>\n",
       "      <td>0.466875</td>\n",
       "      <td>-0.277740</td>\n",
       "    </tr>\n",
       "  </tbody>\n",
       "</table>\n",
       "</div>"
      ],
      "text/plain": [
       "            Maas       Yas  Calisma Saati  Emeklilik\n",
       "Burak   1.023230  0.568769       0.392858   1.137538\n",
       "Mehmet -1.158145 -0.372933       0.772118  -0.745865\n",
       "Ahmet  -2.513657  0.286616       0.510594   0.573233\n",
       "Atil   -0.496343 -0.138870       0.466875  -0.277740"
      ]
     },
     "execution_count": 73,
     "metadata": {},
     "output_type": "execute_result"
    }
   ],
   "source": [
    "dataFrame2[\"Emeklilik\"]=dataFrame2[\"Yas\"] + dataFrame2[\"Yas\"]\n",
    "dataFrame2"
   ]
  },
  {
   "cell_type": "markdown",
   "id": "def6a35c-7182-49d3-81a6-e32dc16db312",
   "metadata": {},
   "source": [
    "## Sutun Silme"
   ]
  },
  {
   "cell_type": "code",
   "execution_count": 74,
   "id": "c83ccac5-51f4-4ec2-871e-badda8f2399a",
   "metadata": {},
   "outputs": [
    {
     "data": {
      "text/html": [
       "<div>\n",
       "<style scoped>\n",
       "    .dataframe tbody tr th:only-of-type {\n",
       "        vertical-align: middle;\n",
       "    }\n",
       "\n",
       "    .dataframe tbody tr th {\n",
       "        vertical-align: top;\n",
       "    }\n",
       "\n",
       "    .dataframe thead th {\n",
       "        text-align: right;\n",
       "    }\n",
       "</style>\n",
       "<table border=\"1\" class=\"dataframe\">\n",
       "  <thead>\n",
       "    <tr style=\"text-align: right;\">\n",
       "      <th></th>\n",
       "      <th>Maas</th>\n",
       "      <th>Yas</th>\n",
       "      <th>Calisma Saati</th>\n",
       "    </tr>\n",
       "  </thead>\n",
       "  <tbody>\n",
       "    <tr>\n",
       "      <th>Burak</th>\n",
       "      <td>1.023230</td>\n",
       "      <td>0.568769</td>\n",
       "      <td>0.392858</td>\n",
       "    </tr>\n",
       "    <tr>\n",
       "      <th>Mehmet</th>\n",
       "      <td>-1.158145</td>\n",
       "      <td>-0.372933</td>\n",
       "      <td>0.772118</td>\n",
       "    </tr>\n",
       "    <tr>\n",
       "      <th>Ahmet</th>\n",
       "      <td>-2.513657</td>\n",
       "      <td>0.286616</td>\n",
       "      <td>0.510594</td>\n",
       "    </tr>\n",
       "    <tr>\n",
       "      <th>Atil</th>\n",
       "      <td>-0.496343</td>\n",
       "      <td>-0.138870</td>\n",
       "      <td>0.466875</td>\n",
       "    </tr>\n",
       "  </tbody>\n",
       "</table>\n",
       "</div>"
      ],
      "text/plain": [
       "            Maas       Yas  Calisma Saati\n",
       "Burak   1.023230  0.568769       0.392858\n",
       "Mehmet -1.158145 -0.372933       0.772118\n",
       "Ahmet  -2.513657  0.286616       0.510594\n",
       "Atil   -0.496343 -0.138870       0.466875"
      ]
     },
     "execution_count": 74,
     "metadata": {},
     "output_type": "execute_result"
    }
   ],
   "source": [
    "dataFrame2.drop(\"Emeklilik\" , axis=1)"
   ]
  },
  {
   "cell_type": "markdown",
   "id": "07f680c0-be16-47cd-a301-8cfd821a099d",
   "metadata": {},
   "source": [
    "## Satir Silme"
   ]
  },
  {
   "cell_type": "code",
   "execution_count": 75,
   "id": "476a8c0e-586c-4ed8-a32f-6ce93e2d0d3a",
   "metadata": {},
   "outputs": [
    {
     "data": {
      "text/html": [
       "<div>\n",
       "<style scoped>\n",
       "    .dataframe tbody tr th:only-of-type {\n",
       "        vertical-align: middle;\n",
       "    }\n",
       "\n",
       "    .dataframe tbody tr th {\n",
       "        vertical-align: top;\n",
       "    }\n",
       "\n",
       "    .dataframe thead th {\n",
       "        text-align: right;\n",
       "    }\n",
       "</style>\n",
       "<table border=\"1\" class=\"dataframe\">\n",
       "  <thead>\n",
       "    <tr style=\"text-align: right;\">\n",
       "      <th></th>\n",
       "      <th>Maas</th>\n",
       "      <th>Yas</th>\n",
       "      <th>Calisma Saati</th>\n",
       "      <th>Emeklilik</th>\n",
       "    </tr>\n",
       "  </thead>\n",
       "  <tbody>\n",
       "    <tr>\n",
       "      <th>Burak</th>\n",
       "      <td>1.023230</td>\n",
       "      <td>0.568769</td>\n",
       "      <td>0.392858</td>\n",
       "      <td>1.137538</td>\n",
       "    </tr>\n",
       "    <tr>\n",
       "      <th>Mehmet</th>\n",
       "      <td>-1.158145</td>\n",
       "      <td>-0.372933</td>\n",
       "      <td>0.772118</td>\n",
       "      <td>-0.745865</td>\n",
       "    </tr>\n",
       "    <tr>\n",
       "      <th>Ahmet</th>\n",
       "      <td>-2.513657</td>\n",
       "      <td>0.286616</td>\n",
       "      <td>0.510594</td>\n",
       "      <td>0.573233</td>\n",
       "    </tr>\n",
       "  </tbody>\n",
       "</table>\n",
       "</div>"
      ],
      "text/plain": [
       "            Maas       Yas  Calisma Saati  Emeklilik\n",
       "Burak   1.023230  0.568769       0.392858   1.137538\n",
       "Mehmet -1.158145 -0.372933       0.772118  -0.745865\n",
       "Ahmet  -2.513657  0.286616       0.510594   0.573233"
      ]
     },
     "execution_count": 75,
     "metadata": {},
     "output_type": "execute_result"
    }
   ],
   "source": [
    "dataFrame2.drop(\"Atil\" , axis=0)"
   ]
  },
  {
   "cell_type": "code",
   "execution_count": 76,
   "id": "b907be50-c130-4f36-90bc-7aae657e26f0",
   "metadata": {},
   "outputs": [
    {
     "data": {
      "text/html": [
       "<div>\n",
       "<style scoped>\n",
       "    .dataframe tbody tr th:only-of-type {\n",
       "        vertical-align: middle;\n",
       "    }\n",
       "\n",
       "    .dataframe tbody tr th {\n",
       "        vertical-align: top;\n",
       "    }\n",
       "\n",
       "    .dataframe thead th {\n",
       "        text-align: right;\n",
       "    }\n",
       "</style>\n",
       "<table border=\"1\" class=\"dataframe\">\n",
       "  <thead>\n",
       "    <tr style=\"text-align: right;\">\n",
       "      <th></th>\n",
       "      <th>Maas</th>\n",
       "      <th>Yas</th>\n",
       "      <th>Calisma Saati</th>\n",
       "      <th>Emeklilik</th>\n",
       "    </tr>\n",
       "  </thead>\n",
       "  <tbody>\n",
       "    <tr>\n",
       "      <th>Burak</th>\n",
       "      <td>1.023230</td>\n",
       "      <td>0.568769</td>\n",
       "      <td>0.392858</td>\n",
       "      <td>1.137538</td>\n",
       "    </tr>\n",
       "    <tr>\n",
       "      <th>Mehmet</th>\n",
       "      <td>-1.158145</td>\n",
       "      <td>-0.372933</td>\n",
       "      <td>0.772118</td>\n",
       "      <td>-0.745865</td>\n",
       "    </tr>\n",
       "    <tr>\n",
       "      <th>Ahmet</th>\n",
       "      <td>-2.513657</td>\n",
       "      <td>0.286616</td>\n",
       "      <td>0.510594</td>\n",
       "      <td>0.573233</td>\n",
       "    </tr>\n",
       "    <tr>\n",
       "      <th>Atil</th>\n",
       "      <td>-0.496343</td>\n",
       "      <td>-0.138870</td>\n",
       "      <td>0.466875</td>\n",
       "      <td>-0.277740</td>\n",
       "    </tr>\n",
       "  </tbody>\n",
       "</table>\n",
       "</div>"
      ],
      "text/plain": [
       "            Maas       Yas  Calisma Saati  Emeklilik\n",
       "Burak   1.023230  0.568769       0.392858   1.137538\n",
       "Mehmet -1.158145 -0.372933       0.772118  -0.745865\n",
       "Ahmet  -2.513657  0.286616       0.510594   0.573233\n",
       "Atil   -0.496343 -0.138870       0.466875  -0.277740"
      ]
     },
     "execution_count": 76,
     "metadata": {},
     "output_type": "execute_result"
    }
   ],
   "source": [
    "dataFrame2"
   ]
  },
  {
   "cell_type": "markdown",
   "id": "34189764-06d0-4631-94b0-dc6c1eb5ec37",
   "metadata": {},
   "source": [
    "## Tablodan Tamamen Silmek"
   ]
  },
  {
   "cell_type": "code",
   "execution_count": 77,
   "id": "d4a89295-91a3-4c92-9681-94d2e075e975",
   "metadata": {},
   "outputs": [],
   "source": [
    "dataFrame2.drop(\"Atil\" , axis=0,inplace=True)"
   ]
  },
  {
   "cell_type": "code",
   "execution_count": 78,
   "id": "6de685fc-7969-45eb-bab6-9adcbf78a32a",
   "metadata": {},
   "outputs": [
    {
     "data": {
      "text/html": [
       "<div>\n",
       "<style scoped>\n",
       "    .dataframe tbody tr th:only-of-type {\n",
       "        vertical-align: middle;\n",
       "    }\n",
       "\n",
       "    .dataframe tbody tr th {\n",
       "        vertical-align: top;\n",
       "    }\n",
       "\n",
       "    .dataframe thead th {\n",
       "        text-align: right;\n",
       "    }\n",
       "</style>\n",
       "<table border=\"1\" class=\"dataframe\">\n",
       "  <thead>\n",
       "    <tr style=\"text-align: right;\">\n",
       "      <th></th>\n",
       "      <th>Maas</th>\n",
       "      <th>Yas</th>\n",
       "      <th>Calisma Saati</th>\n",
       "      <th>Emeklilik</th>\n",
       "    </tr>\n",
       "  </thead>\n",
       "  <tbody>\n",
       "    <tr>\n",
       "      <th>Burak</th>\n",
       "      <td>1.023230</td>\n",
       "      <td>0.568769</td>\n",
       "      <td>0.392858</td>\n",
       "      <td>1.137538</td>\n",
       "    </tr>\n",
       "    <tr>\n",
       "      <th>Mehmet</th>\n",
       "      <td>-1.158145</td>\n",
       "      <td>-0.372933</td>\n",
       "      <td>0.772118</td>\n",
       "      <td>-0.745865</td>\n",
       "    </tr>\n",
       "    <tr>\n",
       "      <th>Ahmet</th>\n",
       "      <td>-2.513657</td>\n",
       "      <td>0.286616</td>\n",
       "      <td>0.510594</td>\n",
       "      <td>0.573233</td>\n",
       "    </tr>\n",
       "  </tbody>\n",
       "</table>\n",
       "</div>"
      ],
      "text/plain": [
       "            Maas       Yas  Calisma Saati  Emeklilik\n",
       "Burak   1.023230  0.568769       0.392858   1.137538\n",
       "Mehmet -1.158145 -0.372933       0.772118  -0.745865\n",
       "Ahmet  -2.513657  0.286616       0.510594   0.573233"
      ]
     },
     "execution_count": 78,
     "metadata": {},
     "output_type": "execute_result"
    }
   ],
   "source": [
    "dataFrame2"
   ]
  },
  {
   "cell_type": "markdown",
   "id": "0d200bc1-ec17-4b96-85fc-7b09709f6f59",
   "metadata": {},
   "source": [
    "## Veriye Erişmek"
   ]
  },
  {
   "cell_type": "code",
   "execution_count": 79,
   "id": "fb36cf65-8e02-4f70-99c7-7575cfbeafc7",
   "metadata": {},
   "outputs": [],
   "source": [
    "dataFrame2.loc[\"Burak\",\"Yas\"]=5"
   ]
  },
  {
   "cell_type": "markdown",
   "id": "3d826b26-d18c-4b13-8acb-148a576186b6",
   "metadata": {},
   "source": [
    "## Eleme Yapma"
   ]
  },
  {
   "cell_type": "code",
   "execution_count": 80,
   "id": "286008d9-4e80-4c63-97f4-cfa48b3d5ea5",
   "metadata": {},
   "outputs": [
    {
     "data": {
      "text/html": [
       "<div>\n",
       "<style scoped>\n",
       "    .dataframe tbody tr th:only-of-type {\n",
       "        vertical-align: middle;\n",
       "    }\n",
       "\n",
       "    .dataframe tbody tr th {\n",
       "        vertical-align: top;\n",
       "    }\n",
       "\n",
       "    .dataframe thead th {\n",
       "        text-align: right;\n",
       "    }\n",
       "</style>\n",
       "<table border=\"1\" class=\"dataframe\">\n",
       "  <thead>\n",
       "    <tr style=\"text-align: right;\">\n",
       "      <th></th>\n",
       "      <th>Maas</th>\n",
       "      <th>Yas</th>\n",
       "      <th>Calisma Saati</th>\n",
       "      <th>Emeklilik</th>\n",
       "    </tr>\n",
       "  </thead>\n",
       "  <tbody>\n",
       "    <tr>\n",
       "      <th>Burak</th>\n",
       "      <td>1.023230</td>\n",
       "      <td>5.000000</td>\n",
       "      <td>0.392858</td>\n",
       "      <td>1.137538</td>\n",
       "    </tr>\n",
       "    <tr>\n",
       "      <th>Ahmet</th>\n",
       "      <td>-2.513657</td>\n",
       "      <td>0.286616</td>\n",
       "      <td>0.510594</td>\n",
       "      <td>0.573233</td>\n",
       "    </tr>\n",
       "  </tbody>\n",
       "</table>\n",
       "</div>"
      ],
      "text/plain": [
       "           Maas       Yas  Calisma Saati  Emeklilik\n",
       "Burak  1.023230  5.000000       0.392858   1.137538\n",
       "Ahmet -2.513657  0.286616       0.510594   0.573233"
      ]
     },
     "execution_count": 80,
     "metadata": {},
     "output_type": "execute_result"
    }
   ],
   "source": [
    "dataFrame2[dataFrame2[\"Yas\"] > 0] # yaşı 0 dan büyük olanlar"
   ]
  },
  {
   "cell_type": "markdown",
   "id": "4abb4a2a-8de1-4b7e-980e-c4e373bfe8ee",
   "metadata": {},
   "source": [
    "## Index Değiştirme"
   ]
  },
  {
   "cell_type": "code",
   "execution_count": 81,
   "id": "f8469b94-f8a3-470f-a547-8d7bc547ada6",
   "metadata": {},
   "outputs": [
    {
     "data": {
      "text/html": [
       "<div>\n",
       "<style scoped>\n",
       "    .dataframe tbody tr th:only-of-type {\n",
       "        vertical-align: middle;\n",
       "    }\n",
       "\n",
       "    .dataframe tbody tr th {\n",
       "        vertical-align: top;\n",
       "    }\n",
       "\n",
       "    .dataframe thead th {\n",
       "        text-align: right;\n",
       "    }\n",
       "</style>\n",
       "<table border=\"1\" class=\"dataframe\">\n",
       "  <thead>\n",
       "    <tr style=\"text-align: right;\">\n",
       "      <th></th>\n",
       "      <th>index</th>\n",
       "      <th>Maas</th>\n",
       "      <th>Yas</th>\n",
       "      <th>Calisma Saati</th>\n",
       "      <th>Emeklilik</th>\n",
       "    </tr>\n",
       "  </thead>\n",
       "  <tbody>\n",
       "    <tr>\n",
       "      <th>0</th>\n",
       "      <td>Burak</td>\n",
       "      <td>1.023230</td>\n",
       "      <td>5.000000</td>\n",
       "      <td>0.392858</td>\n",
       "      <td>1.137538</td>\n",
       "    </tr>\n",
       "    <tr>\n",
       "      <th>1</th>\n",
       "      <td>Mehmet</td>\n",
       "      <td>-1.158145</td>\n",
       "      <td>-0.372933</td>\n",
       "      <td>0.772118</td>\n",
       "      <td>-0.745865</td>\n",
       "    </tr>\n",
       "    <tr>\n",
       "      <th>2</th>\n",
       "      <td>Ahmet</td>\n",
       "      <td>-2.513657</td>\n",
       "      <td>0.286616</td>\n",
       "      <td>0.510594</td>\n",
       "      <td>0.573233</td>\n",
       "    </tr>\n",
       "  </tbody>\n",
       "</table>\n",
       "</div>"
      ],
      "text/plain": [
       "    index      Maas       Yas  Calisma Saati  Emeklilik\n",
       "0   Burak  1.023230  5.000000       0.392858   1.137538\n",
       "1  Mehmet -1.158145 -0.372933       0.772118  -0.745865\n",
       "2   Ahmet -2.513657  0.286616       0.510594   0.573233"
      ]
     },
     "execution_count": 81,
     "metadata": {},
     "output_type": "execute_result"
    }
   ],
   "source": [
    "dataFrame2.reset_index()"
   ]
  },
  {
   "cell_type": "code",
   "execution_count": 82,
   "id": "449d4b42-88ef-424f-b326-256cabbb46bb",
   "metadata": {},
   "outputs": [
    {
     "data": {
      "text/html": [
       "<div>\n",
       "<style scoped>\n",
       "    .dataframe tbody tr th:only-of-type {\n",
       "        vertical-align: middle;\n",
       "    }\n",
       "\n",
       "    .dataframe tbody tr th {\n",
       "        vertical-align: top;\n",
       "    }\n",
       "\n",
       "    .dataframe thead th {\n",
       "        text-align: right;\n",
       "    }\n",
       "</style>\n",
       "<table border=\"1\" class=\"dataframe\">\n",
       "  <thead>\n",
       "    <tr style=\"text-align: right;\">\n",
       "      <th></th>\n",
       "      <th>Maas</th>\n",
       "      <th>Yas</th>\n",
       "      <th>Calisma Saati</th>\n",
       "      <th>Emeklilik</th>\n",
       "      <th>Yeni Index</th>\n",
       "    </tr>\n",
       "  </thead>\n",
       "  <tbody>\n",
       "    <tr>\n",
       "      <th>Burak</th>\n",
       "      <td>1.023230</td>\n",
       "      <td>5.000000</td>\n",
       "      <td>0.392858</td>\n",
       "      <td>1.137538</td>\n",
       "      <td>Ati</td>\n",
       "    </tr>\n",
       "    <tr>\n",
       "      <th>Mehmet</th>\n",
       "      <td>-1.158145</td>\n",
       "      <td>-0.372933</td>\n",
       "      <td>0.772118</td>\n",
       "      <td>-0.745865</td>\n",
       "      <td>Ebo</td>\n",
       "    </tr>\n",
       "    <tr>\n",
       "      <th>Ahmet</th>\n",
       "      <td>-2.513657</td>\n",
       "      <td>0.286616</td>\n",
       "      <td>0.510594</td>\n",
       "      <td>0.573233</td>\n",
       "      <td>Blok</td>\n",
       "    </tr>\n",
       "  </tbody>\n",
       "</table>\n",
       "</div>"
      ],
      "text/plain": [
       "            Maas       Yas  Calisma Saati  Emeklilik Yeni Index\n",
       "Burak   1.023230  5.000000       0.392858   1.137538        Ati\n",
       "Mehmet -1.158145 -0.372933       0.772118  -0.745865        Ebo\n",
       "Ahmet  -2.513657  0.286616       0.510594   0.573233       Blok"
      ]
     },
     "execution_count": 82,
     "metadata": {},
     "output_type": "execute_result"
    }
   ],
   "source": [
    "yeniIndex=[\"Ati\",\"Ebo\",\"Blok\"]\n",
    "dataFrame2[\"Yeni Index\"]=yeniIndex\n",
    "dataFrame2"
   ]
  },
  {
   "cell_type": "code",
   "execution_count": 83,
   "id": "deb78be8-2368-448a-a691-3bee506ad7bd",
   "metadata": {},
   "outputs": [
    {
     "data": {
      "text/html": [
       "<div>\n",
       "<style scoped>\n",
       "    .dataframe tbody tr th:only-of-type {\n",
       "        vertical-align: middle;\n",
       "    }\n",
       "\n",
       "    .dataframe tbody tr th {\n",
       "        vertical-align: top;\n",
       "    }\n",
       "\n",
       "    .dataframe thead th {\n",
       "        text-align: right;\n",
       "    }\n",
       "</style>\n",
       "<table border=\"1\" class=\"dataframe\">\n",
       "  <thead>\n",
       "    <tr style=\"text-align: right;\">\n",
       "      <th></th>\n",
       "      <th>Maas</th>\n",
       "      <th>Yas</th>\n",
       "      <th>Calisma Saati</th>\n",
       "      <th>Emeklilik</th>\n",
       "    </tr>\n",
       "    <tr>\n",
       "      <th>Yeni Index</th>\n",
       "      <th></th>\n",
       "      <th></th>\n",
       "      <th></th>\n",
       "      <th></th>\n",
       "    </tr>\n",
       "  </thead>\n",
       "  <tbody>\n",
       "    <tr>\n",
       "      <th>Ati</th>\n",
       "      <td>1.023230</td>\n",
       "      <td>5.000000</td>\n",
       "      <td>0.392858</td>\n",
       "      <td>1.137538</td>\n",
       "    </tr>\n",
       "    <tr>\n",
       "      <th>Ebo</th>\n",
       "      <td>-1.158145</td>\n",
       "      <td>-0.372933</td>\n",
       "      <td>0.772118</td>\n",
       "      <td>-0.745865</td>\n",
       "    </tr>\n",
       "    <tr>\n",
       "      <th>Blok</th>\n",
       "      <td>-2.513657</td>\n",
       "      <td>0.286616</td>\n",
       "      <td>0.510594</td>\n",
       "      <td>0.573233</td>\n",
       "    </tr>\n",
       "  </tbody>\n",
       "</table>\n",
       "</div>"
      ],
      "text/plain": [
       "                Maas       Yas  Calisma Saati  Emeklilik\n",
       "Yeni Index                                              \n",
       "Ati         1.023230  5.000000       0.392858   1.137538\n",
       "Ebo        -1.158145 -0.372933       0.772118  -0.745865\n",
       "Blok       -2.513657  0.286616       0.510594   0.573233"
      ]
     },
     "execution_count": 83,
     "metadata": {},
     "output_type": "execute_result"
    }
   ],
   "source": [
    "dataFrame2.set_index(\"Yeni Index\",inplace=True)\n",
    "dataFrame2"
   ]
  },
  {
   "cell_type": "code",
   "execution_count": null,
   "id": "1a234c72-e7a8-4f92-9027-6447f88c8528",
   "metadata": {},
   "outputs": [],
   "source": []
  }
 ],
 "metadata": {
  "kernelspec": {
   "display_name": "Python 3 (ipykernel)",
   "language": "python",
   "name": "python3"
  },
  "language_info": {
   "codemirror_mode": {
    "name": "ipython",
    "version": 3
   },
   "file_extension": ".py",
   "mimetype": "text/x-python",
   "name": "python",
   "nbconvert_exporter": "python",
   "pygments_lexer": "ipython3",
   "version": "3.12.7"
  }
 },
 "nbformat": 4,
 "nbformat_minor": 5
}
