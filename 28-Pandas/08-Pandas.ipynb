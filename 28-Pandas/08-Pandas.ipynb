{
 "cells": [
  {
   "cell_type": "code",
   "execution_count": 23,
   "id": "9d3a4495-628a-4895-8fa4-29078ad33833",
   "metadata": {},
   "outputs": [],
   "source": [
    "import pandas as pd\n",
    "import numpy as np"
   ]
  },
  {
   "cell_type": "code",
   "execution_count": 24,
   "id": "44f40d03-2fc3-4261-a7bf-7f1385adaab3",
   "metadata": {},
   "outputs": [
    {
     "data": {
      "text/html": [
       "<div>\n",
       "<style scoped>\n",
       "    .dataframe tbody tr th:only-of-type {\n",
       "        vertical-align: middle;\n",
       "    }\n",
       "\n",
       "    .dataframe tbody tr th {\n",
       "        vertical-align: top;\n",
       "    }\n",
       "\n",
       "    .dataframe thead th {\n",
       "        text-align: right;\n",
       "    }\n",
       "</style>\n",
       "<table border=\"1\" class=\"dataframe\">\n",
       "  <thead>\n",
       "    <tr style=\"text-align: right;\">\n",
       "      <th></th>\n",
       "      <th>isim</th>\n",
       "      <th>departman</th>\n",
       "      <th>maas</th>\n",
       "    </tr>\n",
       "  </thead>\n",
       "  <tbody>\n",
       "    <tr>\n",
       "      <th>0</th>\n",
       "      <td>Burak</td>\n",
       "      <td>Yazilim</td>\n",
       "      <td>15</td>\n",
       "    </tr>\n",
       "    <tr>\n",
       "      <th>1</th>\n",
       "      <td>Ahmet</td>\n",
       "      <td>Yazilim</td>\n",
       "      <td>25</td>\n",
       "    </tr>\n",
       "    <tr>\n",
       "      <th>2</th>\n",
       "      <td>Mehmet</td>\n",
       "      <td>Hukuk</td>\n",
       "      <td>45</td>\n",
       "    </tr>\n",
       "  </tbody>\n",
       "</table>\n",
       "</div>"
      ],
      "text/plain": [
       "     isim departman  maas\n",
       "0   Burak   Yazilim    15\n",
       "1   Ahmet   Yazilim    25\n",
       "2  Mehmet     Hukuk    45"
      ]
     },
     "execution_count": 24,
     "metadata": {},
     "output_type": "execute_result"
    }
   ],
   "source": [
    "maas = {\"isim\" :[\"Burak\",\"Ahmet\",\"Mehmet\"],\n",
    "       \"departman\" : [\"Yazilim\",\"Yazilim\",\"Hukuk\"],\n",
    "        \"maas\" : [15,25,45]        \n",
    "       }\n",
    "dataF =pd.DataFrame(maas)\n",
    "dataF"
   ]
  },
  {
   "cell_type": "code",
   "execution_count": 25,
   "id": "a2ef741f-9bdd-45a5-9a80-777fb99a24eb",
   "metadata": {},
   "outputs": [
    {
     "data": {
      "text/plain": [
       "array(['Yazilim', 'Hukuk'], dtype=object)"
      ]
     },
     "execution_count": 25,
     "metadata": {},
     "output_type": "execute_result"
    }
   ],
   "source": [
    "dataF[\"departman\"].unique() #farklı olan departanları gösterir"
   ]
  },
  {
   "cell_type": "code",
   "execution_count": 26,
   "id": "6a9d54e7-f5fd-4f77-9846-7411fbcc9571",
   "metadata": {},
   "outputs": [
    {
     "data": {
      "text/plain": [
       "2"
      ]
     },
     "execution_count": 26,
     "metadata": {},
     "output_type": "execute_result"
    }
   ],
   "source": [
    "dataF[\"departman\"].nunique()#yukardakinin sayısı"
   ]
  },
  {
   "cell_type": "code",
   "execution_count": 27,
   "id": "a3c1bd16-cae2-4654-9918-5ebb300b62b8",
   "metadata": {},
   "outputs": [
    {
     "data": {
      "text/plain": [
       "departman\n",
       "Yazilim    2\n",
       "Hukuk      1\n",
       "Name: count, dtype: int64"
      ]
     },
     "execution_count": 27,
     "metadata": {},
     "output_type": "execute_result"
    }
   ],
   "source": [
    "dataF[\"departman\"].value_counts()"
   ]
  },
  {
   "cell_type": "code",
   "execution_count": 28,
   "id": "420102d7-959e-4ff6-8ea1-eda0bae1bf7f",
   "metadata": {},
   "outputs": [],
   "source": [
    "def bruttenNete(maas):\n",
    "    return maas*0.66"
   ]
  },
  {
   "cell_type": "code",
   "execution_count": 29,
   "id": "0accdee7-2b75-4908-8660-e0a2303cff76",
   "metadata": {},
   "outputs": [
    {
     "data": {
      "text/plain": [
       "0     9.9\n",
       "1    16.5\n",
       "2    29.7\n",
       "Name: maas, dtype: float64"
      ]
     },
     "execution_count": 29,
     "metadata": {},
     "output_type": "execute_result"
    }
   ],
   "source": [
    "dataF[\"maas\"].apply(bruttenNete)"
   ]
  },
  {
   "cell_type": "code",
   "execution_count": null,
   "id": "994e967f-9b62-4ef2-9667-fb728d42e5d6",
   "metadata": {},
   "outputs": [],
   "source": []
  },
  {
   "cell_type": "code",
   "execution_count": null,
   "id": "7a024036-e32d-48c7-88d6-db52ace50101",
   "metadata": {},
   "outputs": [],
   "source": []
  }
 ],
 "metadata": {
  "kernelspec": {
   "display_name": "Python 3 (ipykernel)",
   "language": "python",
   "name": "python3"
  },
  "language_info": {
   "codemirror_mode": {
    "name": "ipython",
    "version": 3
   },
   "file_extension": ".py",
   "mimetype": "text/x-python",
   "name": "python",
   "nbconvert_exporter": "python",
   "pygments_lexer": "ipython3",
   "version": "3.12.7"
  }
 },
 "nbformat": 4,
 "nbformat_minor": 5
}
