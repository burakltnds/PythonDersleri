{
 "cells": [
  {
   "cell_type": "code",
   "execution_count": 22,
   "id": "970754ff-c037-4577-9825-3c6f6b0c99c5",
   "metadata": {},
   "outputs": [],
   "source": [
    "class Meyve():\n",
    "    def __init__(self,isim,kalori):\n",
    "        self.isim=isim\n",
    "        self.kalori=kalori\n",
    "    def __str__ (self):\n",
    "        return f\"{self.isim} nin kalorisi {self.kalori}\"\n",
    "    def __len__(self):\n",
    "        return self.kalori"
   ]
  },
  {
   "cell_type": "code",
   "execution_count": 23,
   "id": "b88a90b2-110d-48bf-aa32-9629e5896f6a",
   "metadata": {},
   "outputs": [
    {
     "name": "stdout",
     "output_type": "stream",
     "text": [
      "150\n",
      "elma nin kalorisi 200\n"
     ]
    }
   ],
   "source": [
    "muz = Meyve(\"muz\" , 150 )\n",
    "print(len(muz))\n",
    "elma=Meyve(\"elma\" , 200)\n",
    "print(elma)"
   ]
  },
  {
   "cell_type": "code",
   "execution_count": 24,
   "id": "c2d543d1-e659-4e68-8a46-c8fb67938227",
   "metadata": {},
   "outputs": [],
   "source": [
    "#Özel Metodları internetten arayabilirsin // Python Özel Metodlar"
   ]
  },
  {
   "cell_type": "code",
   "execution_count": null,
   "id": "e08b87a8-dadb-42ff-a2e7-cacde1dfc7c4",
   "metadata": {},
   "outputs": [],
   "source": []
  },
  {
   "cell_type": "code",
   "execution_count": null,
   "id": "7daffdcf-5c7d-4ade-a0d6-db06338985c0",
   "metadata": {},
   "outputs": [],
   "source": []
  }
 ],
 "metadata": {
  "kernelspec": {
   "display_name": "Python 3 (ipykernel)",
   "language": "python",
   "name": "python3"
  },
  "language_info": {
   "codemirror_mode": {
    "name": "ipython",
    "version": 3
   },
   "file_extension": ".py",
   "mimetype": "text/x-python",
   "name": "python",
   "nbconvert_exporter": "python",
   "pygments_lexer": "ipython3",
   "version": "3.12.7"
  }
 },
 "nbformat": 4,
 "nbformat_minor": 5
}
