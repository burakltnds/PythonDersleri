{
 "cells": [
  {
   "cell_type": "code",
   "execution_count": 3,
   "id": "86fd6cf9-2c1c-4997-9a8e-d1ca52ba69a4",
   "metadata": {},
   "outputs": [],
   "source": [
    "class Elma():\n",
    "    \n",
    "    def __init__(self,isim):\n",
    "        self.isim = isim\n",
    "    \n",
    "    def bilgiVer(self):\n",
    "        return self.isim + \" 100 kalori\"\n",
    "        "
   ]
  },
  {
   "cell_type": "code",
   "execution_count": 4,
   "id": "5f9e45a8-11e4-4013-a23c-bb85313e02a8",
   "metadata": {},
   "outputs": [],
   "source": [
    "class Muz():\n",
    "    def __init__ (self,isim):\n",
    "        self.isim=isim\n",
    "    def bilgiVer(self):\n",
    "        return self.isim + \" 150 kalori\""
   ]
  },
  {
   "cell_type": "code",
   "execution_count": 5,
   "id": "7ec2223e-9285-4207-9c70-4d76b6b997e4",
   "metadata": {},
   "outputs": [],
   "source": [
    "elma = Elma(\"Golden Elma\")\n",
    "muz= Muz(\"Anamur Muz\")"
   ]
  },
  {
   "cell_type": "code",
   "execution_count": 9,
   "id": "e0cba992-1a2b-4fc8-8069-3b2e945dddfa",
   "metadata": {},
   "outputs": [
    {
     "name": "stdout",
     "output_type": "stream",
     "text": [
      "Golden Elma 100 kalori\n",
      "Anamur Muz 150 kalori\n"
     ]
    }
   ],
   "source": [
    "meyveList = [elma,muz]\n",
    "for meyve in meyveList:\n",
    "    print(meyve.bilgiVer())"
   ]
  },
  {
   "cell_type": "code",
   "execution_count": null,
   "id": "705a3bf9-d9f7-451a-9ce0-6ce3a34597a8",
   "metadata": {},
   "outputs": [],
   "source": []
  }
 ],
 "metadata": {
  "kernelspec": {
   "display_name": "Python 3 (ipykernel)",
   "language": "python",
   "name": "python3"
  },
  "language_info": {
   "codemirror_mode": {
    "name": "ipython",
    "version": 3
   },
   "file_extension": ".py",
   "mimetype": "text/x-python",
   "name": "python",
   "nbconvert_exporter": "python",
   "pygments_lexer": "ipython3",
   "version": "3.12.7"
  }
 },
 "nbformat": 4,
 "nbformat_minor": 5
}
